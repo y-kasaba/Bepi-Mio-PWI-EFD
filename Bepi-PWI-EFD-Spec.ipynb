{
 "cells": [
  {
   "attachments": {},
   "cell_type": "markdown",
   "id": "a116756d",
   "metadata": {},
   "source": [
    "# BepiColombo PWI EFD Spec: L1a QL -- 2025/9/24"
   ]
  },
  {
   "cell_type": "code",
   "execution_count": null,
   "id": "bca50671",
   "metadata": {},
   "outputs": [],
   "source": [
    "import copy\n",
    "import datetime\n",
    "import matplotlib.colors as colors\n",
    "import matplotlib.pyplot as plt\n",
    "import numpy as np\n",
    "import os\n",
    "import sys\n",
    "from spacepy import pycdf"
   ]
  },
  {
   "cell_type": "code",
   "execution_count": null,
   "metadata": {},
   "outputs": [],
   "source": [
    "sys.path.append('./lib/')\n",
    "import Bepi_PWI_EFD_spec_data as bepi_data\n",
    "import Bepi_PWI_EFD_spec_lib  as bepi_spec\n",
    "# import Bepi_PWI_EFD_cal_lib  as bepi_cal"
   ]
  },
  {
   "cell_type": "markdown",
   "metadata": {},
   "source": [
    "# parameter set -- to be modified"
   ]
  },
  {
   "cell_type": "code",
   "execution_count": null,
   "id": "05e8da84",
   "metadata": {},
   "outputs": [],
   "source": [
    "# *** Dump ***\n",
    "dump_mode = 0                           # 0: no-dump  1:plot dump\n",
    "\n",
    "# *** CAL ***\n",
    "unit_mode = 1                           # [Power]     0: RAW    1: V    2: V/m\n",
    "band_mode = 0                           # [Power]     0: sum    1: /Hz\n",
    "cal_mode  = 2                           # [Power]     0: background     1: CAL     2: all\n",
    "\n",
    "# *** Unit ***\n",
    "f_mode    = 1                           # [Frequency] 0: linear  1: log\n",
    "time_mode = 0                           # [Time]      0: Epoch   1: data number\n",
    "gap_mode  = 1                           # [gap]       0: n/a     1: gap\n",
    "\n",
    "# *** Power range set ***\n",
    "p_raw_max = +5.0                        # background: 7.5   CAL: 10\n",
    "p_raw_min = -4.0                        # background: 2.5   CAL: 5\n",
    "\n",
    "# *** Directory set: set by User ***\n",
    "work_dir = '/Users/user/0-python/Bepi_python/ql/'   # Plot dump folder"
   ]
  },
  {
   "attachments": {},
   "cell_type": "markdown",
   "id": "093823c4",
   "metadata": {},
   "source": [
    "# get CDF data"
   ]
  },
  {
   "cell_type": "code",
   "execution_count": null,
   "id": "a619adb8",
   "metadata": {},
   "outputs": [],
   "source": [
    "mode_cdf = 11       # 00:flight-L1  10:flight-L1p   1:test-L1    11:test-L1p\n",
    "mode_tlm = 'm'      # l, m\n",
    "mode_L   = 0        # 0:ave     1:peak\n",
    "\n",
    "# date = '0'          # from Data list in Bepi_PWI_EFD_sec_data.py\n",
    "# TEST\n",
    "# date = '20250822'       # Initial Check DryRun #3\n",
    "date = '20250801'       # Initial Check DryRun #3\n",
    "# date = '20250625'     # Initial Check DryRun #2\n",
    "# date = '2025060?'     # Initial Check DryRun #1\n",
    "# date = '20250606'     # Initial Check DryRun #1\n",
    "# date = '20250605'     # Initial Check DryRun #1\n",
    "\n",
    "# Flight -- only 'l'\n",
    "# date='20250410'\n",
    "# date='20240409'\n",
    "# date='20231106'\n",
    "# date='20231026'           # WPT: CAL\n",
    "# date='20230730'\n",
    "# date='20230522'\n",
    "# date='20230228'           # WPT: CAL\n",
    "# date='20221107'\n",
    "# date='20220517'\n",
    "# date='20220311'\n",
    "# date='20211124'\n",
    "# date='20210617'\n",
    "# date='20201217'\n",
    "# date='20200304'\n",
    "# date='20190630'\n",
    "# date='2018080?'           # WPT latch release\n",
    "# date='20190807'           # WPT latch release\n",
    "# date='20190806'           # WPT latch release\n",
    "# date='20190805'           # WPT precheck\n",
    "# date='20190802'           # WPT precheck\n",
    "# date='20190701'           # WPT detailed check\n",
    "# date='20190515'\n",
    "# date='201811[0-1][9,0]'   # Init check\n",
    "# date='20181111'           # Init check\n",
    "# date='20181110'           # Init check\n",
    "# date='20181109'           # Init check\n",
    "\n",
    "data_dir, data_list = bepi_data.datalist(date, mode_tlm, mode_cdf)       # [date]   yyyymmdd: group read    others: file list"
   ]
  },
  {
   "cell_type": "code",
   "execution_count": null,
   "id": "fdca912c",
   "metadata": {},
   "outputs": [],
   "source": [
    "class struct:\n",
    "    pass\n",
    "data = struct()\n",
    "num_list = len(data_list)\n",
    "for i in range(num_list):\n",
    "    data_name = data_list[i];  cdf_file = data_dir + data_name\n",
    "    cdf = pycdf.CDF(cdf_file);    data1 = bepi_spec.efd_spec_read(cdf, mode_tlm, mode_L)\n",
    "    if i==0: data = data1;                               \n",
    "    else:    data = bepi_spec.efd_spec_add(data, data1)\n",
    "    print(i, data.EuEu.shape, cdf_file)\n",
    "data_name = os.path.split(data_name)[1];            print(\"data name:\", data_name)"
   ]
  },
  {
   "cell_type": "code",
   "execution_count": null,
   "id": "4c28c688",
   "metadata": {},
   "outputs": [],
   "source": [
    "data = bepi_spec.efd_spec_shaping(data, cal_mode)\n",
    "data.freq   = data.spec_freq\n",
    "data.freq_w = data.spec_width"
   ]
  },
  {
   "cell_type": "code",
   "execution_count": null,
   "id": "f46357e4",
   "metadata": {},
   "outputs": [],
   "source": [
    "print(\"   data.EuEu(,ch) [V]:\", data.EuEu.shape,    data.EuEu[0][0],          data.EuEu[-1][-1])\n",
    "print(\"   data.EvEv(,ch) [V]:\", data.EvEv.shape,    data.EvEv[0][0],          data.EvEv[-1][-1])\n",
    "print(\"       data.spec_freq:\", data.spec_freq.shape,     \"\\t\", data.spec_freq[0],        data.spec_freq[-1])\n",
    "print(\"      data.spec_width:\", data.spec_width.shape,    \"\\t\", data.spec_width[0],       data.spec_width[-1])\n",
    "\n",
    "print(\"data.EFD_quality_flag:\",data.EFD_quality_flag.shape,\"\\t\\t\", '{:X}'.format(data.EFD_quality_flag[0]), '{:X}'.format(data.EFD_quality_flag[-1]))\n",
    "print(\"  data.EFD_saturation:\", data.EFD_saturation.shape,\"\\t\\t\", data.EFD_saturation[0], data.EFD_saturation[-1])\n",
    "print(\"       data.EFD_U_ENA:\", data.EFD_U_ENA.shape,     \"\\t\", data.EFD_U_ENA[0],        data.EFD_U_ENA[-1])\n",
    "print(\"       data.EFD_V_ENA:\", data.EFD_V_ENA.shape,     \"\\t\", data.EFD_V_ENA[0],        data.EFD_V_ENA[-1])\n",
    "print(\"          data.BIAS_U:\", data.BIAS_U.shape,        \"\\t\", data.BIAS_U[0],           data.BIAS_U[-1])\n",
    "print(\"          data.BIAS_V:\", data.BIAS_V.shape,        \"\\t\", data.BIAS_V[0],           data.BIAS_V[-1])\n",
    "print(\"         data.EFD_CAL:\", data.EFD_CAL.shape,       \"\\t\", data.EFD_CAL[0],          data.EFD_CAL[-1])\n",
    "print(\"      data.PRE_U_ACAL:\", data.PRE_U_ACAL.shape,    \"\\t\", data.PRE_U_ACAL[0],       data.PRE_U_ACAL[-1])\n",
    "print(\"        data.AM2P_ACT:\", data.AM2P_ACT.shape,      \"\\t\", data.AM2P_ACT[0],         data.AM2P_ACT[-1])\n",
    "print(\"     data.BIAS_LVL_U1:\", data.BIAS_LVL_U1.shape,   \"\\t\", data.BIAS_LVL_U1[0],      data.BIAS_LVL_U1[-1])\n",
    "print(\"     data.BIAS_LVL_U2:\", data.BIAS_LVL_U2.shape,   \"\\t\", data.BIAS_LVL_U2[0],      data.BIAS_LVL_U2[-1])\n",
    "print(\"     data.BIAS_LVL_V1:\", data.BIAS_LVL_V1.shape,   \"\\t\", data.BIAS_LVL_V1[0],      data.BIAS_LVL_V1[-1])\n",
    "print(\"     data.BIAS_LVL_V2:\", data.BIAS_LVL_V2.shape,   \"\\t\", data.BIAS_LVL_V2[0],      data.BIAS_LVL_V2[-1])\n",
    "\n",
    "print(\"       data.EFD_Hdump:\", data.EFD_Hdump.shape,     \"\\t\", data.EFD_Hdump[0],        data.EFD_Hdump[-1])\n",
    "print(\"  data.EFD_saturation:\", data.EFD_saturation.shape,\"\\t\", data.EFD_saturation[0],   data.EFD_saturation[-1])\n",
    "print(\"    data.EFD_spinrate:\", data.EFD_spinrate.shape,  \"\\t\", data.EFD_spinrate[0],     data.EFD_spinrate[-1])\n",
    "print(\"   data.EFD_spinphase:\", data.EFD_spinphase.shape, \"\\t\", data.EFD_spinphase[0],    data.EFD_spinphase[-1])\n",
    "print(\"          data.EFD_TI:\", data.EFD_TI.shape,        \"\\t\", '{:X}'.format(data.EFD_TI[0]), '{:X}'.format(data.EFD_TI[-1]))\n",
    "print(\"           data.epoch:\", data.epoch.shape,         \"\\t\", data.epoch[0],            data.epoch[-1])"
   ]
  },
  {
   "cell_type": "code",
   "execution_count": null,
   "id": "67562b9b",
   "metadata": {},
   "outputs": [],
   "source": [
    "date1 = data.epoch[0];  date1 = date1.strftime('%Y/%m/%d %R:%S')\n",
    "date2 = data.epoch[-1]; date2 = date2.strftime('%Y/%m/%d %R:%S')\n",
    "str_date = date1 + \"  -  \" + date2\n",
    "n_time0 = data.n_time;  n_freq0 = data.n_freq\n",
    "f_min0  = data.freq[0]; f_max0  = data.freq[-1]\n",
    "\n",
    "if data.n_time>1: \n",
    "    print(\"    Epoch:\", str_date, \"(interval:\", data.epoch[1] - data.epoch[0], data.epoch[-1] - data.epoch[-2], \")\")\n",
    "else:\n",
    "    print(\"    Epoch:\", str_date)\n",
    "print(\"  Samples:\", n_time0)\n",
    "print(\"Frequency:\", n_freq0, \"\\t[\", f_min0,  \"-\", f_max0, \"(Hz)]\")\n",
    "print(\"    (step)\", data.freq_w)"
   ]
  },
  {
   "cell_type": "markdown",
   "id": "bee456fd",
   "metadata": {},
   "source": [
    "# Spectrum Data"
   ]
  },
  {
   "cell_type": "code",
   "execution_count": null,
   "id": "9f7b4444",
   "metadata": {},
   "outputs": [],
   "source": [
    "spec = copy.deepcopy(data)"
   ]
  },
  {
   "cell_type": "code",
   "execution_count": null,
   "id": "c2e938a2",
   "metadata": {},
   "outputs": [],
   "source": [
    "Epoch_1d  = spec.epoch.tolist();    n_time1 = spec.EuEu.shape[0]; num_1d = np.arange(n_time1)\n",
    "freq_1d   = spec.freq;              freq_w_1d = spec.freq_w\n",
    "n_freq1   = freq_1d.shape[0];       f_min0 = freq_1d[0];                f_max0  = freq_1d[-1]"
   ]
  },
  {
   "cell_type": "code",
   "execution_count": null,
   "id": "6c9fdece",
   "metadata": {},
   "outputs": [],
   "source": [
    "from datetime import timedelta\n",
    "Epoch_1d = spec.epoch.tolist();   Epoch_spec = []\n",
    "dt = Epoch_1d[(n_time0//2) + 1] - Epoch_1d[n_time0//2]\n",
    "for i in range(n_freq0):\n",
    "    Epoch_spec += Epoch_1d\n",
    "for i in range(n_time0):\n",
    "    for j in range(n_freq0):\n",
    "        Epoch_spec[i*n_freq0 + j] = Epoch_1d[i] + timedelta(seconds = dt.total_seconds() *j/n_freq0)"
   ]
  },
  {
   "cell_type": "code",
   "execution_count": null,
   "id": "e666a41f",
   "metadata": {},
   "outputs": [],
   "source": [
    "# spec = bepi_cal.spec_cal(spec)     # CAL\n",
    "spec.cf = 0.0\n",
    "if mode_cdf>=10:\n",
    "    spec.cf = -30     # (1/30 m)^2 ~ -30 dB\n",
    "spec.str_unit = \"mV2/m2/Hz\""
   ]
  },
  {
   "cell_type": "markdown",
   "id": "3cf817ff",
   "metadata": {},
   "source": [
    "### Peak"
   ]
  },
  {
   "cell_type": "code",
   "execution_count": null,
   "id": "9323df18",
   "metadata": {},
   "outputs": [],
   "source": [
    "bepi_spec.spec_peak(spec, n_time0)"
   ]
  },
  {
   "cell_type": "code",
   "execution_count": null,
   "id": "abd06726",
   "metadata": {},
   "outputs": [],
   "source": [
    "p_max0 = p_raw_max + spec.cf/10;  p_min0 = p_raw_min + spec.cf/10\n",
    "p_max  = np.ceil(np.log10( np.nanmax( [np.nanmax(spec.EuEu), np.nanmax(spec.EvEv)] ) )*5)/5+.5\n",
    "p_min  = np.ceil(np.log10( np.nanmin( [np.nanmin(spec.EuEu), np.nanmin(spec.EvEv)] ) )*5)/5-.5\n",
    "print(\"MAX-min:\", '{:.1f}'.format(p_max), '({:.1e})'.format(10**p_max0), '{:.1f}'.format(p_min), '({:.1e})'.format(10**p_min0))\n",
    "print(\"conversion factor:\", '{:.1f}'.format(spec.cf), \"    MAX-min:\", '{:.1f}'.format(p_max), '({:.1f})'.format(p_max0), '{:.1f}'.format(p_min), '({:.1f})'.format(p_min0), \"   str_unit:\", spec.str_unit)"
   ]
  },
  {
   "cell_type": "code",
   "execution_count": null,
   "id": "9b10ca79",
   "metadata": {},
   "outputs": [],
   "source": [
    "if mode_tlm=='m':\n",
    "    str_Eu     = 'EuEu (M)';        str_Ev = 'EvEv (M)';        str_EE     = 'EE (M)'\n",
    "elif mode_tlm=='l':\n",
    "    if mode_L==0:\n",
    "        str_Eu = 'EuEu ave (L)';    str_Ev = 'EvEv ave (L)';    str_EE     = 'EE ave (L)'\n",
    "    else:\n",
    "        str_Eu = 'EuEu peak (L)';   str_Ev = 'EvEv peak (L)';   str_EE     = 'EE peak (L)'"
   ]
  },
  {
   "cell_type": "code",
   "execution_count": null,
   "id": "1f4293b7",
   "metadata": {},
   "outputs": [],
   "source": [
    "# NAN\n",
    "if gap_mode == 1 and time_mode == 0:\n",
    "    for i in range(n_time1-1):\n",
    "        dt = spec.epoch[i+1] - spec.epoch[i]\n",
    "        if dt.total_seconds() > 60:  bepi_spec.spec_nan(spec, i)\n",
    "spec.EE   = spec.EuEu + spec.EvEv"
   ]
  },
  {
   "cell_type": "markdown",
   "id": "6cc526e7",
   "metadata": {},
   "source": [
    "### Spectrum plot -- ALL"
   ]
  },
  {
   "cell_type": "code",
   "execution_count": null,
   "id": "2ef60e31",
   "metadata": {},
   "outputs": [],
   "source": [
    "n0 = 0;               n1    = n_time0\n",
    "# n0 = 600;             n1    = 800\n",
    "p_max  = p_max0+2;    p_min  = p_min0\n",
    "\n",
    "fig = plt.figure(figsize=(14, 11))\n",
    "ax1 = fig.add_subplot(4, 1, 1);  ax2 = fig.add_subplot(4, 1, 2);  ax3 = fig.add_subplot(4, 1, 3);  ax4 = fig.add_subplot(4, 1, 4)\n",
    "\n",
    "ax1.plot(np.ravel(spec.EvEv[n0:n1]),           '-b', linewidth=0.2, label=str_Ev)\n",
    "ax1.plot(np.ravel(spec.EuEu[n0:n1])*100,       '-r', linewidth=0.4, label=str_Eu + ' *100')\n",
    "ax1.set_yscale('log')\n",
    "#\n",
    "ax2.plot(np.ravel((data.EFD_quality_flag[n0:n1]>>24)&1) +27.4, '.r', ms=1, linewidth=2.0)\n",
    "ax2.plot(np.ravel( data.AM2P_ACT        [n0:n1])        +27,   '.b', ms=1, linewidth=2.0, label='AM2P_ACT    (b24)')\n",
    "ax2.plot(np.ravel((data.EFD_quality_flag[n0:n1]>>23)&1) +24.4, '.r', ms=1, linewidth=2.0)\n",
    "ax2.plot(np.ravel( data.PRE_U_ACAL      [n0:n1])        +24,   '.b', ms=1, linewidth=2.0, label='PRE_U_ACAL  (b23)')\n",
    "ax2.plot(np.ravel((data.EFD_quality_flag[n0:n1]>>22)&1) +21.4, '.r', ms=1, linewidth=2.0)\n",
    "ax2.plot(np.ravel( data.EFD_CAL         [n0:n1])        +21,   '.b', ms=1, linewidth=1.0, label='EFD_CAL     (b22)')\n",
    "ax2.plot(np.ravel(1-(data.EFD_quality_flag[n0:n1]>>21)&1)+18.4,'.r', ms=1, linewidth=2.0)\n",
    "ax2.plot(np.ravel( data.BIAS_V          [n0:n1])        +18,   '.b', ms=1, linewidth=1.0, label='BIAS_V      (b21)')\n",
    "ax2.plot(np.ravel(1-(data.EFD_quality_flag[n0:n1]>>20)&1)+15.4,'.r', ms=1, linewidth=2.0)\n",
    "ax2.plot(np.ravel( data.BIAS_U          [n0:n1])        +15,   '.b', ms=1, linewidth=2.0, label='BIAS_U      (b20)')\n",
    "ax2.plot(np.ravel(1-(data.EFD_quality_flag[n0:n1]>>19)&1)+12.4,'.r', ms=1, linewidth=2.0)\n",
    "ax2.plot(np.ravel( data.EFD_V_ENA       [n0:n1])        +12,   '.b', ms=1, linewidth=1.0, label='EFD_V_ENA   (b19)')\n",
    "ax2.plot(np.ravel(1-(data.EFD_quality_flag[n0:n1]>>18)&1)+9.4, '.r', ms=1, linewidth=2.0)\n",
    "ax2.plot(np.ravel( data.EFD_U_ENA       [n0:n1])        +9,    '.b', ms=1, linewidth=2.0, label='EFD_U_ENA   (b18)')\n",
    "ax2.plot(np.ravel((data.EFD_quality_flag[n0:n1]>>17)&1) +6.4,  '.r', ms=1, linewidth=2.0, label='P_saturation(b18)')\n",
    "ax2.plot(np.ravel( data.EFD_saturation  [n0:n1])        +6,    '.b', ms=1, linewidth=3.0)\n",
    "ax2.plot(np.ravel((data.EFD_quality_flag[n0:n1]>>16)&1) +3.4,  '.r', ms=1, linewidth=2.0, label='E_saturation(b16)')\n",
    "ax2.plot(np.ravel( data.EFD_Hdump [n0:n1])                  ,  '-g', ms=1, linewidth=1.0, label='EFD_Hdump')\n",
    "#\n",
    "ax3.plot(np.ravel(data.EFD_spinrate[n0:n1]),   '-g', linewidth=1.0, label='EFD_spinrate')\n",
    "#\n",
    "ax4.plot(np.ravel(data.epoch[n0:n1]),               '.', markersize=8)\n",
    "\n",
    "ax1.set_ylabel(spec.str_unit)\n",
    "ax4.set_xlabel(str_date)\n",
    "#\n",
    "title_label = '[BepiColombo PWI EFD Spec]  ' + data_name;  ax1.set_title(title_label)\n",
    "ax1.legend(loc='upper right', fontsize=8);  ax2.legend(loc='upper right', fontsize=8);  ax3.legend(loc='upper right', fontsize=8)\n",
    "\n",
    "xlim=[-.5, len(np.ravel(data.EuEu[n0:n1])) -.5]; print(xlim); ax1.set_xlim(xlim)\n",
    "xlim=[-.5, len(np.ravel(data.epoch[n0:n1]))-.5];       print(xlim); ax2.set_xlim(xlim); ax3.set_xlim(xlim); ax4.set_xlim(xlim)\n",
    "ylim=[10**p_min, 10**p_max];                    ax1.set_ylim(ylim)\n",
    "\n",
    "fig.subplots_adjust(hspace=0);  fig.show\n",
    "if dump_mode == 1:\n",
    "    png_fname = work_dir+data_name+'_raw.png'\n",
    "    fig.savefig(png_fname)"
   ]
  },
  {
   "cell_type": "code",
   "execution_count": null,
   "id": "ca6aaa1f",
   "metadata": {},
   "outputs": [],
   "source": [
    "n0 = 0;               n1    = n_time0\n",
    "# n0 = 600;             n1    = 700\n",
    "p_max  = p_max0+2;    p_min  = p_min0\n",
    "\n",
    "fig = plt.figure(figsize=(14, 11))\n",
    "ax1 = fig.add_subplot(3, 1, 1);  ax2 = fig.add_subplot(3, 1, 2);  ax3 = fig.add_subplot(3, 1, 3)\n",
    "\n",
    "ax1.plot(Epoch_spec[n0*16:n1*16], np.ravel(spec.EvEv[n0:n1]),      '-b', linewidth=0.2, label=str_Ev)\n",
    "ax1.plot(Epoch_spec[n0*16:n1*16], np.ravel(spec.EuEu[n0:n1])*100,  '-r', linewidth=0.4, label=str_Eu + ' *100')\n",
    "ax1.set_yscale('log')\n",
    "#\n",
    "ax2.plot(data.epoch[n0:n1], np.ravel((data.EFD_quality_flag[n0:n1]>>24)&1) +27.4, '.r', ms=1, linewidth=2.0)\n",
    "ax2.plot(data.epoch[n0:n1], np.ravel( data.AM2P_ACT        [n0:n1])        +27,   '.b', ms=1, linewidth=2.0, label='AM2P_ACT    (b24)')\n",
    "ax2.plot(data.epoch[n0:n1], np.ravel((data.EFD_quality_flag[n0:n1]>>23)&1) +24.4, '.r', ms=1, linewidth=2.0)\n",
    "ax2.plot(data.epoch[n0:n1], np.ravel( data.PRE_U_ACAL      [n0:n1])        +24,   '.b', ms=1, linewidth=2.0, label='PRE_U_ACAL  (b23)')\n",
    "ax2.plot(data.epoch[n0:n1], np.ravel((data.EFD_quality_flag[n0:n1]>>22)&1) +21.4, '.r', ms=1, linewidth=2.0)\n",
    "ax2.plot(data.epoch[n0:n1], np.ravel( data.EFD_CAL         [n0:n1])        +21,   '.b', ms=1, linewidth=1.0, label='EFD_CAL     (b22)')\n",
    "ax2.plot(data.epoch[n0:n1], np.ravel(1-(data.EFD_quality_flag[n0:n1]>>21)&1)+18.4,'.r', ms=1, linewidth=2.0)\n",
    "ax2.plot(data.epoch[n0:n1], np.ravel( data.BIAS_V          [n0:n1])        +18,   '.b', ms=1, linewidth=1.0, label='BIAS_V      (b21)')\n",
    "ax2.plot(data.epoch[n0:n1], np.ravel(1-(data.EFD_quality_flag[n0:n1]>>20)&1)+15.4,'.r', ms=1, linewidth=2.0)\n",
    "ax2.plot(data.epoch[n0:n1], np.ravel( data.BIAS_U          [n0:n1])        +15,   '.b', ms=1, linewidth=2.0, label='BIAS_U      (b20)')\n",
    "ax2.plot(data.epoch[n0:n1], np.ravel(1-(data.EFD_quality_flag[n0:n1]>>19)&1)+12.4,'.r', ms=1, linewidth=2.0)\n",
    "ax2.plot(data.epoch[n0:n1], np.ravel( data.EFD_V_ENA       [n0:n1])        +12,   '.b', ms=1, linewidth=1.0, label='EFD_V_ENA   (b19)')\n",
    "ax2.plot(data.epoch[n0:n1], np.ravel(1-(data.EFD_quality_flag[n0:n1]>>18)&1)+9.4, '.r', ms=1, linewidth=2.0)\n",
    "ax2.plot(data.epoch[n0:n1], np.ravel( data.EFD_U_ENA       [n0:n1])        +9,    '.b', ms=1, linewidth=2.0, label='EFD_U_ENA   (b18)')\n",
    "ax2.plot(data.epoch[n0:n1], np.ravel((data.EFD_quality_flag[n0:n1]>>17)&1) +6.4,  '.r', ms=1, linewidth=2.0, label='P_saturation(b18)')\n",
    "ax2.plot(data.epoch[n0:n1], np.ravel( data.EFD_saturation  [n0:n1])        +6,    '.b', ms=1, linewidth=3.0)\n",
    "ax2.plot(data.epoch[n0:n1], np.ravel((data.EFD_quality_flag[n0:n1]>>16)&1) +3.4,  '.r', ms=1, linewidth=2.0, label='E_saturation(b16)')\n",
    "\n",
    "ax3.plot(data.epoch[n0:n1], np.ravel(data.EFD_spinrate[n0:n1]),    '-g', linewidth=1.0, label='EFD_spinrate')\n",
    "#\n",
    "ax1.set_ylabel(spec.str_unit);  ax3.set_xlabel(str_date)\n",
    "#\n",
    "title_label = '[BepiColombo PWI EFD Spec]  ' + data_name;  ax1.set_title(title_label)\n",
    "ax1.legend(loc='upper right', fontsize=8);  ax2.legend(loc='upper right', fontsize=8);  ax3.legend(loc='upper right', fontsize=8)\n",
    "\n",
    "xlim=[data.epoch[n0], data.epoch[n1-1]]\n",
    "# E_min = '2025-08-22 02:51:00';  t_min = datetime.datetime.strptime(E_min, \"%Y-%m-%d %H:%M:%S\");  \n",
    "# E_max = '2025-08-22 02:58:00';  t_max = datetime.datetime.strptime(E_max, \"%Y-%m-%d %H:%M:%S\");  xlim=[t_min, t_max]\n",
    "print(xlim); ax1.set_xlim(xlim); ax2.set_xlim(xlim); ax3.set_xlim(xlim)\n",
    "ylim=[10**p_min, 10**p_max]\n",
    "ax1.set_ylim(ylim)\n",
    "\n",
    "fig.subplots_adjust(hspace=0);  fig.show\n",
    "if dump_mode == 1:\n",
    "    png_fname = work_dir+data_name+'_raw2.png'\n",
    "    fig.savefig(png_fname)"
   ]
  },
  {
   "cell_type": "markdown",
   "id": "40a14d41",
   "metadata": {},
   "source": [
    "### FT Plot data"
   ]
  },
  {
   "cell_type": "code",
   "execution_count": null,
   "id": "0973a53a",
   "metadata": {},
   "outputs": [],
   "source": [
    "EuEu_2d = spec.EuEu.transpose();  EuEu_med = np.nanmedian(spec.EuEu, axis=0)\n",
    "EvEv_2d = spec.EvEv.transpose();  EvEv_med = np.nanmedian(spec.EvEv, axis=0)\n",
    "EE_2d   = spec.EE.transpose();    EE_med   = np.nanmedian(spec.EE,   axis=0)"
   ]
  },
  {
   "attachments": {},
   "cell_type": "markdown",
   "id": "dccd566c",
   "metadata": {},
   "source": [
    "## Spec"
   ]
  },
  {
   "cell_type": "code",
   "execution_count": null,
   "id": "25985084",
   "metadata": {},
   "outputs": [],
   "source": [
    "n0 = 0;  n1 = n_time0//2;  n2 = n_time0-1\n",
    "p_min = p_min0;  p_max = p_max0\n",
    "f_min = f_min0;  f_max = f_max0\n",
    "\n",
    "fig = plt.figure(figsize=(14, 11))\n",
    "ax1 = fig.add_subplot(1, 1, 1)\n",
    "\n",
    "ax1.plot(freq_1d, spec.EE        [n0], ':y',  linewidth=4.0, label=str_EE +' init')\n",
    "ax1.plot(freq_1d, spec.EuEu[n0], ':r',  linewidth=1.0, label=str_Eu +' init')\n",
    "ax1.plot(freq_1d, spec.EvEv[n0], ':b',  linewidth=0.6, label=str_Ev +' init')\n",
    "ax1.plot(freq_1d, spec.EE        [n1], '-.y', linewidth=4.0, label=str_EE +' half')\n",
    "ax1.plot(freq_1d, spec.EuEu[n1], '-.r', linewidth=1.0, label=str_Eu +' half')\n",
    "ax1.plot(freq_1d, spec.EvEv[n1], '-.b', linewidth=0.6, label=str_Ev +' half')\n",
    "ax1.plot(freq_1d, spec.EE        [n2], '-y',  linewidth=4.0, label=str_EE +' end')\n",
    "ax1.plot(freq_1d, spec.EuEu[n2], '-r',  linewidth=1.0, label=str_Eu +' end')\n",
    "ax1.plot(freq_1d, spec.EvEv[n2], '-b',  linewidth=0.6, label=str_Ev +' end')\n",
    "ax1.set_yscale('log')\n",
    "if f_mode == 1: ax1.set_xscale('log')\n",
    "\n",
    "ax1.set_xlabel('frequency [Hz]')\n",
    "ax1.set_ylabel(spec.str_unit)\n",
    "\n",
    "date1 = data.epoch[n0];  date1 = date1.strftime('%Y/%m/%d %R:%S')\n",
    "date2 = data.epoch[n1];  date2 = date2.strftime('%Y/%m/%d %R:%S')\n",
    "date3 = data.epoch[n2];  date3 = date3.strftime('%Y/%m/%d %R:%S')\n",
    "title_date = \"[\" + data_name + \"]\\n\" + date1 + \"  -  \" + date2 + \"  -  \" + date3;  ax1.set_title(title_date)\n",
    "ax1.legend(loc='upper right', fontsize=8)\n",
    "\n",
    "xlim=[f_min, f_max];  ax1.set_xlim(xlim)\n",
    "ylim=[10**p_min, 10**p_max]; ax1.set_ylim(ylim)\n",
    "\n",
    "fig.subplots_adjust(hspace=0);  fig.show\n",
    "if dump_mode == 1:\n",
    "    png_fname = work_dir+data_name+'_spec.png'\n",
    "    if f_mode == 1:\n",
    "        png_fname = work_dir+data_name+'_spec-log.png'\n",
    "    fig.savefig(png_fname)"
   ]
  },
  {
   "attachments": {},
   "cell_type": "markdown",
   "id": "637c35b8",
   "metadata": {},
   "source": [
    "## FT"
   ]
  },
  {
   "cell_type": "code",
   "execution_count": null,
   "metadata": {},
   "outputs": [],
   "source": [
    "n0    = 0;              n1     = n_time0\n",
    "# n0    = n_time0//10;    n1     = n_time0//6\n",
    "p_min = p_min0;  p_max = p_max0\n",
    "f_min = f_min0;  f_max = f_max0\n",
    "num_1d = np.arange(n_time0)\n",
    "\n",
    "fig2d = plt.figure(figsize=[16,11])\n",
    "if time_mode == 1:\n",
    "    ax1 = fig2d.add_subplot(3, 1, 1);  ax2 = fig2d.add_subplot(3, 1, 2);  ax3 = fig2d.add_subplot(3, 1, 3);  ax3.set_xlabel(str_date)\n",
    "else:\n",
    "    ax1 = fig2d.add_subplot(2, 1, 1);  ax2 = fig2d.add_subplot(2, 1, 2);                                     ax2.set_xlabel(str_date)\n",
    "ax1.set_ylim(f_min, f_max);   ax2.set_ylim(f_min, f_max)\n",
    "if f_mode == 1:\n",
    "    ax1.set_yscale('log');    ax2.set_yscale('log')\n",
    "ax1.set_ylabel(str_Eu + ' [kHz]'); ax2.set_ylabel(str_Eu + ' [kHz]')\n",
    "ax1.set_title(\"[\" + data_name + \"]\")\n",
    "\n",
    "if time_mode == 1:\n",
    "    p1 = ax1.pcolormesh(num_1d,   freq_1d, EuEu_2d, norm=colors.LogNorm(vmin=10**p_min, vmax=10**p_max), cmap='jet')\n",
    "    p2 = ax2.pcolormesh(num_1d,   freq_1d, EvEv_2d, norm=colors.LogNorm(vmin=10**p_min, vmax=10**p_max), cmap='jet')\n",
    "    p3 = ax3.plot(np.ravel(data.epoch[:]), '.')\n",
    "    pp3 = fig2d.colorbar(p2, ax=ax3, orientation=\"vertical\"); pp3.set_label(spec.str_unit)\n",
    "else:\n",
    "    p1 = ax1.pcolormesh(Epoch_1d, freq_1d, EuEu_2d, norm=colors.LogNorm(vmin=10**p_min, vmax=10**p_max), cmap='jet')\n",
    "    p2 = ax2.pcolormesh(Epoch_1d, freq_1d, EvEv_2d, norm=colors.LogNorm(vmin=10**p_min, vmax=10**p_max), cmap='jet')\n",
    "pp1 = fig2d.colorbar(p1, ax=ax1, orientation=\"vertical\");  pp1.set_label(spec.str_unit)\n",
    "pp2 = fig2d.colorbar(p2, ax=ax2, orientation=\"vertical\");  pp2.set_label(spec.str_unit)\n",
    "\n",
    "print( \"(\", num_1d[0],\")\", Epoch_1d[0], \"-\", \"(\", num_1d[-1],\")\", Epoch_1d[-1] )\n",
    "if time_mode == 1:\n",
    "    xlim=[num_1d[n0], num_1d[n1-1]]\n",
    "    ax3.set_xlim(xlim)\n",
    "else:\n",
    "    xlim=[Epoch_1d[n0], Epoch_1d[n1-1]]\n",
    "    # E_min = '2025-08-22 02:51:00';  t_min = datetime.datetime.strptime(E_min, \"%Y-%m-%d %H:%M:%S\");  \n",
    "    # E_max = '2025-08-22 02:58:00';  t_max = datetime.datetime.strptime(E_max, \"%Y-%m-%d %H:%M:%S\");  xlim=[t_min, t_max]\n",
    "ax1.set_xlim(xlim); ax2.set_xlim(xlim)\n",
    "\n",
    "plt.subplots_adjust(hspace=0.02);  plt.show()\n",
    "if dump_mode > 0:\n",
    "    png_fname = work_dir+data_name+'_FT.png'\n",
    "    if f_mode == 1:\n",
    "        png_fname = work_dir+data_name+'_FT-log.png'\n",
    "    fig2d.savefig(png_fname)"
   ]
  },
  {
   "cell_type": "code",
   "execution_count": null,
   "id": "916c0750",
   "metadata": {},
   "outputs": [],
   "source": [
    "n0    = 0;              n1     = n_time0\n",
    "# n0    = n_time0//10;    n1     = n_time0//6\n",
    "p_min = p_min0;  p_max = p_max0\n",
    "f_min = f_min0;  f_max = f_max0\n",
    "num_1d = np.arange(n_time0)\n",
    "\n",
    "fig2d = plt.figure(figsize=[16,11])\n",
    "if time_mode == 1:\n",
    "    ax1 = fig2d.add_subplot(2, 1, 1);  ax2 = fig2d.add_subplot(2, 1, 2);  ax2.set_xlabel(str_date)\n",
    "else:\n",
    "    ax1 = fig2d.add_subplot(1, 1, 1);                                     ax1.set_xlabel(str_date)\n",
    "ax1.set_ylim(f_min, f_max)\n",
    "if f_mode == 1:\n",
    "    ax1.set_yscale('log')\n",
    "ax1.set_ylabel(str_EE + ' [kHz]');  ax1.set_title(\"[\" + data_name + \"]\")\n",
    "\n",
    "if time_mode == 1:\n",
    "    p1 = ax1.pcolormesh(num_1d,   freq_1d, EE_2d, norm=colors.LogNorm(vmin=10**p_min, vmax=10**p_max), cmap='jet')\n",
    "    p2 = ax2.plot(np.ravel(data.epoch[:]), '.')\n",
    "    pp2 = fig2d.colorbar(p1, ax=ax2, orientation=\"vertical\"); pp2.set_label(spec.str_unit)\n",
    "else:\n",
    "    p1 = ax1.pcolormesh(Epoch_1d, freq_1d, EE_2d, norm=colors.LogNorm(vmin=10**p_min, vmax=10**p_max), cmap='jet')\n",
    "pp1 = fig2d.colorbar(p1, ax=ax1, orientation=\"vertical\");  pp1.set_label(spec.str_unit)\n",
    "\n",
    "print( \"(\", num_1d[0],\")\", Epoch_1d[0], \"-\", \"(\", num_1d[-1],\")\", Epoch_1d[-1] )\n",
    "if time_mode == 1:\n",
    "    xlim=[num_1d[n0], num_1d[n2-1]]\n",
    "    ax2.set_xlim(xlim)\n",
    "else:\n",
    "    xlim=[Epoch_1d[n0], Epoch_1d[n1-1]]\n",
    "    #E_min = '2024-08-21 04:00:00';  t_min = datetime.datetime.strptime(E_min, \"%Y-%m-%d %H:%M:%S\");  \n",
    "    #E_max = '2024-08-21 19:00:00';  t_max = datetime.datetime.strptime(E_max, \"%Y-%m-%d %H:%M:%S\");  xlim=[t_min, t_max]\n",
    "ax1.set_xlim(xlim)\n",
    "\n",
    "plt.subplots_adjust(hspace=0.02);  plt.show()\n",
    "if dump_mode > 0:\n",
    "    png_fname = work_dir+data_name+'_FT2.png'\n",
    "    if f_mode == 1:\n",
    "        png_fname = work_dir+data_name+'_FT2-log.png'\n",
    "    fig2d.savefig(png_fname)"
   ]
  },
  {
   "cell_type": "markdown",
   "id": "ab5c2035",
   "metadata": {},
   "source": [
    "### spin"
   ]
  },
  {
   "cell_type": "code",
   "execution_count": null,
   "id": "b66cd9d8",
   "metadata": {},
   "outputs": [],
   "source": [
    "n0 = 0;            n1 = n_time0\n",
    "# n0 = n_time0//2;   n1 = n0+10\n",
    "\n",
    "fig = plt.figure(figsize=(14, 11))\n",
    "ax1 = fig.add_subplot(2, 1, 1); ax2 = fig.add_subplot(2, 1, 2)\n",
    "ax1.plot(data.epoch[n0:n1], data.EFD_spinrate [n0:n1],   '.g', linewidth=1.0, label='EFD_spinrate')\n",
    "ax2.plot(data.epoch[n0:n1], data.EFD_spinphase[n0:n1],  '.g', linewidth=1.0, label='EFD_spinphase')\n",
    "ax2.set_xlabel(str_date)\n",
    "#\n",
    "title_label = '[BepiColombo PWI EFD Spin]  ' + data_name;  ax1.set_title(title_label)\n",
    "ax1.legend(loc='upper right', fontsize=8)\n",
    "\n",
    "xlim=[data.epoch[n0], data.epoch[n1-1]]\n",
    "# E_min = '2025-08-22 02:30:00';  t_min = datetime.datetime.strptime(E_min, \"%Y-%m-%d %H:%M:%S\");  \n",
    "# E_max = '2025-08-22 02:30:10';  t_max = datetime.datetime.strptime(E_max, \"%Y-%m-%d %H:%M:%S\");  xlim=[t_min, t_max]\n",
    "ax1.set_xlim(xlim); ax2.set_xlim(xlim); print(xlim)\n",
    "# ylim=[p_min, p_max];  ax1.set_ylim(ylim)\n",
    "\n",
    "\n",
    "fig.subplots_adjust(hspace=0);  fig.show()"
   ]
  }
 ],
 "metadata": {
  "kernelspec": {
   "display_name": "3.12",
   "language": "python",
   "name": "python3"
  },
  "language_info": {
   "codemirror_mode": {
    "name": "ipython",
    "version": 3
   },
   "file_extension": ".py",
   "mimetype": "text/x-python",
   "name": "python",
   "nbconvert_exporter": "python",
   "pygments_lexer": "ipython3",
   "version": "3.12.7"
  }
 },
 "nbformat": 4,
 "nbformat_minor": 5
}

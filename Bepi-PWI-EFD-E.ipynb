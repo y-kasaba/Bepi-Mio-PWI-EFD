{
 "cells": [
  {
   "attachments": {},
   "cell_type": "markdown",
   "id": "a116756d",
   "metadata": {},
   "source": [
    "# BepiColombo PWI EFD E-field: L1a QL -- 2025/8/9"
   ]
  },
  {
   "cell_type": "code",
   "execution_count": 1,
   "id": "bca50671",
   "metadata": {},
   "outputs": [
    {
     "name": "stderr",
     "output_type": "stream",
     "text": [
      "/opt/homebrew/Caskroom/miniforge/base/envs/3.12/lib/python3.12/site-packages/spacepy/time.py:2448: UserWarning: Leapseconds may be out of date. Use spacepy.toolbox.update(leapsecs=True)\n",
      "  _read_leaps()\n"
     ]
    }
   ],
   "source": [
    "import copy\n",
    "import datetime\n",
    "import matplotlib.colors as colors\n",
    "import matplotlib.pyplot as plt\n",
    "import numpy as np\n",
    "import os\n",
    "import sys\n",
    "from spacepy import pycdf"
   ]
  },
  {
   "cell_type": "code",
   "execution_count": 2,
   "metadata": {},
   "outputs": [],
   "source": [
    "sys.path.append('./lib/')\n",
    "import Bepi_PWI_EFD_E_data as bepi_data\n",
    "import Bepi_PWI_EFD_E_lib  as bepi_e\n",
    "# import Bepi_PWI_EFD_cal_lib  as bepi_cal"
   ]
  },
  {
   "cell_type": "markdown",
   "metadata": {},
   "source": [
    "# parameter set -- to be modified"
   ]
  },
  {
   "cell_type": "code",
   "execution_count": null,
   "id": "05e8da84",
   "metadata": {},
   "outputs": [],
   "source": [
    "# *** Dump ***\n",
    "dump_mode = 0                           # 0: no-dump  1:plot dump\n",
    "\n",
    "# *** CAL ***\n",
    "unit_mode = 2                           # [Power]     0: RAW    1: V    2: V/m\n",
    "band_mode = 0                           # [Power]     0: sum    1: /Hz\n",
    "cal_mode  = 2                           # [Power]     0: background     1: CAL     2: all\n",
    "\n",
    "# *** Unit ***\n",
    "time_mode = 0                           # [Time]      0: Epoch   1: data number\n",
    "gap_mode  = 1                           # [gap]       0: n/a     1: gap\n",
    "\n",
    "# *** Power range set ***\n",
    "p_raw_max = +10                         # background: 7.5   CAL: 10\n",
    "p_raw_min = -10                         # background: 2.5   CAL: 5\n",
    "\n",
    "# *** Directory set: set by User ***\n",
    "work_dir = '/Users/user/0-python/Bepi_python/ql/'   # Plot dump folder"
   ]
  },
  {
   "attachments": {},
   "cell_type": "markdown",
   "id": "093823c4",
   "metadata": {},
   "source": [
    "# get CDF data"
   ]
  },
  {
   "cell_type": "code",
   "execution_count": 4,
   "id": "a619adb8",
   "metadata": {},
   "outputs": [
    {
     "name": "stdout",
     "output_type": "stream",
     "text": [
      "/Users/user/D-Univ/data/data-Mio/cdf_test/EFD/L1/2025/bc_mmo_pwi-efd_l1_m-e_20250801*.cdf\n",
      "/Users/user/D-Univ/data/data-Mio/cdf_test/EFD/L1/2025/\n",
      "['bc_mmo_pwi-efd_l1_m-e_20250801_r01-v00-00.cdf']\n"
     ]
    }
   ],
   "source": [
    "mode_cdf = 1        # 0:flight  1:test\n",
    "mode_tlm = 'm'      # l, m, h\n",
    "mode_ant = 0        # 0:both    1:U(WPT)    2:V(MEF)\n",
    "\n",
    "# TEST\n",
    "date = '20250801'       # Initial Check DryRun #3\n",
    "# date = '20250625'     # Initial Check DryRun #2\n",
    "# date = '2025060?'     # Initial Check DryRun #1\n",
    "# date = '20250606'     # Initial Check DryRun #1\n",
    "# date = '20250605'     # Initial Check DryRun #1\n",
    "# date = '20250606'     # Initial Check DryRun #1\n",
    "# date = '20250625'     # Initial Check DryRun #2\n",
    "\n",
    "# Flight -- only 'l'\n",
    "# date='20250410'\n",
    "# date='20240409'\n",
    "# date='20231106'\n",
    "# date='20231026'           # WPT: CAL\n",
    "# date='20230730'\n",
    "# date='20230522'\n",
    "# date='20230228'           # WPT: CAL\n",
    "# date='20221107'\n",
    "# date='20220517'\n",
    "# date='20220311'\n",
    "# date='20211124'\n",
    "# date='20210617'\n",
    "# date='20201217'\n",
    "# date='20200304'\n",
    "# date='20190630'\n",
    "# date='2018080?'           # WPT latch release\n",
    "# date='20190807'           # WPT latch release\n",
    "# date='20190806'           # WPT latch release\n",
    "# date='20190805'           # WPT precheck\n",
    "# date='20190802'           # WPT precheck\n",
    "# date='20190701'           # WPT detailed check\n",
    "# date='20190515'\n",
    "# date='201811[0-1][9,0]'   # Init check\n",
    "# date='20181111'           # Init check\n",
    "# date='20181110'           # Init check\n",
    "# date='20181109'           # Init check\n",
    "\n",
    "data_dir, data_list = bepi_data.datalist(date, mode_tlm, mode_cdf)       # [date]   yyyymmdd: group read    others: file list"
   ]
  },
  {
   "cell_type": "code",
   "execution_count": 5,
   "id": "fdca912c",
   "metadata": {},
   "outputs": [
    {
     "ename": "KeyError",
     "evalue": "'EFD_Eu_ENA: NO_SUCH_VAR: Named variable not found in this CDF.'",
     "output_type": "error",
     "traceback": [
      "\u001b[31m---------------------------------------------------------------------------\u001b[39m",
      "\u001b[31mCDFError\u001b[39m                                  Traceback (most recent call last)",
      "\u001b[36mFile \u001b[39m\u001b[32m/opt/homebrew/Caskroom/miniforge/base/envs/3.12/lib/python3.12/site-packages/spacepy/pycdf/__init__.py:1713\u001b[39m, in \u001b[36mCDF.__getitem__\u001b[39m\u001b[34m(self, name)\u001b[39m\n\u001b[32m   1712\u001b[39m \u001b[38;5;28;01mtry\u001b[39;00m:\n\u001b[32m-> \u001b[39m\u001b[32m1713\u001b[39m     \u001b[38;5;28;01mreturn\u001b[39;00m \u001b[43mVar\u001b[49m\u001b[43m(\u001b[49m\u001b[38;5;28;43mself\u001b[39;49m\u001b[43m,\u001b[49m\u001b[43m \u001b[49m\u001b[43mname\u001b[49m\u001b[43m)\u001b[49m\n\u001b[32m   1714\u001b[39m \u001b[38;5;28;01mexcept\u001b[39;00m CDFException \u001b[38;5;28;01mas\u001b[39;00m e:\n",
      "\u001b[36mFile \u001b[39m\u001b[32m/opt/homebrew/Caskroom/miniforge/base/envs/3.12/lib/python3.12/site-packages/spacepy/pycdf/__init__.py:2961\u001b[39m, in \u001b[36mVar.__init__\u001b[39m\u001b[34m(self, cdf_file, var_name, *args)\u001b[39m\n\u001b[32m   2960\u001b[39m \u001b[38;5;28;01mif\u001b[39;00m \u001b[38;5;28mlen\u001b[39m(args) == \u001b[32m0\u001b[39m:\n\u001b[32m-> \u001b[39m\u001b[32m2961\u001b[39m     \u001b[38;5;28;43mself\u001b[39;49m\u001b[43m.\u001b[49m\u001b[43m_get\u001b[49m\u001b[43m(\u001b[49m\u001b[43mvar_name\u001b[49m\u001b[43m)\u001b[49m\n\u001b[32m   2962\u001b[39m \u001b[38;5;28;01melse\u001b[39;00m:\n",
      "\u001b[36mFile \u001b[39m\u001b[32m/opt/homebrew/Caskroom/miniforge/base/envs/3.12/lib/python3.12/site-packages/spacepy/pycdf/__init__.py:3250\u001b[39m, in \u001b[36mVar._get\u001b[39m\u001b[34m(self, var_name)\u001b[39m\n\u001b[32m   3249\u001b[39m varNum = ctypes.c_long(\u001b[32m0\u001b[39m)\n\u001b[32m-> \u001b[39m\u001b[32m3250\u001b[39m \u001b[38;5;28;43mself\u001b[39;49m\u001b[43m.\u001b[49m\u001b[43mcdf_file\u001b[49m\u001b[43m.\u001b[49m\u001b[43m_call\u001b[49m\u001b[43m(\u001b[49m\u001b[43mconst\u001b[49m\u001b[43m.\u001b[49m\u001b[43mGET_\u001b[49m\u001b[43m,\u001b[49m\u001b[43m \u001b[49m\u001b[43mconst\u001b[49m\u001b[43m.\u001b[49m\u001b[43mzVAR_NUMBER_\u001b[49m\u001b[43m,\u001b[49m\u001b[43m \u001b[49m\u001b[43menc_name\u001b[49m\u001b[43m,\u001b[49m\u001b[43m \u001b[49m\u001b[43mctypes\u001b[49m\u001b[43m.\u001b[49m\u001b[43mbyref\u001b[49m\u001b[43m(\u001b[49m\u001b[43mvarNum\u001b[49m\u001b[43m)\u001b[49m\u001b[43m)\u001b[49m\n\u001b[32m   3251\u001b[39m \u001b[38;5;28mself\u001b[39m._name = enc_name\n",
      "\u001b[36mFile \u001b[39m\u001b[32m/opt/homebrew/Caskroom/miniforge/base/envs/3.12/lib/python3.12/site-packages/spacepy/pycdf/__init__.py:1942\u001b[39m, in \u001b[36mCDF._call\u001b[39m\u001b[34m(self, *args, **kwargs)\u001b[39m\n\u001b[32m   1916\u001b[39m \u001b[38;5;250m\u001b[39m\u001b[33;03m\"\"\"Select this CDF as current and call the CDF internal interface\u001b[39;00m\n\u001b[32m   1917\u001b[39m \n\u001b[32m   1918\u001b[39m \u001b[33;03mAdds call to select this CDF to L{args} and passes all parameters\u001b[39;00m\n\u001b[32m   (...)\u001b[39m\u001b[32m   1940\u001b[39m \u001b[33;03m             is set to error on warnings.\u001b[39;00m\n\u001b[32m   1941\u001b[39m \u001b[33;03m\"\"\"\u001b[39;00m\n\u001b[32m-> \u001b[39m\u001b[32m1942\u001b[39m \u001b[38;5;28;01mreturn\u001b[39;00m \u001b[43mlib\u001b[49m\u001b[43m.\u001b[49m\u001b[43mcall\u001b[49m\u001b[43m(\u001b[49m\u001b[43mconst\u001b[49m\u001b[43m.\u001b[49m\u001b[43mSELECT_\u001b[49m\u001b[43m,\u001b[49m\u001b[43m \u001b[49m\u001b[43mconst\u001b[49m\u001b[43m.\u001b[49m\u001b[43mCDF_\u001b[49m\u001b[43m,\u001b[49m\u001b[43m \u001b[49m\u001b[38;5;28;43mself\u001b[39;49m\u001b[43m.\u001b[49m\u001b[43m_handle\u001b[49m\u001b[43m,\u001b[49m\n\u001b[32m   1943\u001b[39m \u001b[43m                \u001b[49m\u001b[43m*\u001b[49m\u001b[43margs\u001b[49m\u001b[43m,\u001b[49m\u001b[43m \u001b[49m\u001b[43m*\u001b[49m\u001b[43m*\u001b[49m\u001b[43mkwargs\u001b[49m\u001b[43m)\u001b[49m\n",
      "\u001b[36mFile \u001b[39m\u001b[32m/opt/homebrew/Caskroom/miniforge/base/envs/3.12/lib/python3.12/site-packages/spacepy/pycdf/__init__.py:514\u001b[39m, in \u001b[36mLibrary.call\u001b[39m\u001b[34m(self, *args, **kwargs)\u001b[39m\n\u001b[32m    513\u001b[39m \u001b[38;5;28;01melse\u001b[39;00m:\n\u001b[32m--> \u001b[39m\u001b[32m514\u001b[39m     \u001b[38;5;28;01mreturn\u001b[39;00m \u001b[38;5;28;43mself\u001b[39;49m\u001b[43m.\u001b[49m\u001b[43mcheck_status\u001b[49m\u001b[43m(\u001b[49m\u001b[38;5;28;43mself\u001b[39;49m\u001b[43m.\u001b[49m\u001b[43m_library\u001b[49m\u001b[43m.\u001b[49m\u001b[43mCDFlib\u001b[49m\u001b[43m(\u001b[49m\n\u001b[32m    515\u001b[39m \u001b[43m        \u001b[49m\u001b[43m*\u001b[49m\u001b[43m(\u001b[49m\u001b[43margs\u001b[49m\u001b[43m \u001b[49m\u001b[43m+\u001b[49m\u001b[43m \u001b[49m\u001b[43m(\u001b[49m\u001b[43mconst\u001b[49m\u001b[43m.\u001b[49m\u001b[43mNULL_\u001b[49m\u001b[43m,\u001b[49m\u001b[43m \u001b[49m\u001b[43m)\u001b[49m\u001b[43m)\u001b[49m\n\u001b[32m    516\u001b[39m \u001b[43m        \u001b[49m\u001b[43m)\u001b[49m\u001b[43m)\u001b[49m\n",
      "\u001b[36mFile \u001b[39m\u001b[32m/opt/homebrew/Caskroom/miniforge/base/envs/3.12/lib/python3.12/site-packages/spacepy/pycdf/__init__.py:467\u001b[39m, in \u001b[36mLibrary.check_status\u001b[39m\u001b[34m(self, status, ignore)\u001b[39m\n\u001b[32m    466\u001b[39m \u001b[38;5;28;01mif\u001b[39;00m status < const.CDF_WARN:\n\u001b[32m--> \u001b[39m\u001b[32m467\u001b[39m     \u001b[38;5;28;01mraise\u001b[39;00m CDFError(status)\n\u001b[32m    468\u001b[39m \u001b[38;5;28;01melse\u001b[39;00m:\n",
      "\u001b[31mCDFError\u001b[39m: NO_SUCH_VAR: Named variable not found in this CDF.",
      "\nDuring handling of the above exception, another exception occurred:\n",
      "\u001b[31mKeyError\u001b[39m                                  Traceback (most recent call last)",
      "\u001b[36mCell\u001b[39m\u001b[36m \u001b[39m\u001b[32mIn[5]\u001b[39m\u001b[32m, line 7\u001b[39m\n\u001b[32m      5\u001b[39m \u001b[38;5;28;01mfor\u001b[39;00m i \u001b[38;5;129;01min\u001b[39;00m \u001b[38;5;28mrange\u001b[39m(num_list):\n\u001b[32m      6\u001b[39m     data_name = data_list[i];   cdf_file = data_dir + data_name\n\u001b[32m----> \u001b[39m\u001b[32m7\u001b[39m     cdf = pycdf.CDF(cdf_file);  data1 = bepi_e.efd_E_read(cdf, mode_tlm)\n\u001b[32m      8\u001b[39m     \u001b[38;5;28;01mif\u001b[39;00m i==\u001b[32m0\u001b[39m: data = data1;                               \n\u001b[32m      9\u001b[39m     \u001b[38;5;28;01melse\u001b[39;00m:    data = bepi_e.efd_E_add(data, data1, mode_tlm)\n",
      "\u001b[36mFile \u001b[39m\u001b[32m~/0-python/Bepi_python/lib/Bepi_PWI_EFD_E_lib.py:37\u001b[39m, in \u001b[36mefd_E_read\u001b[39m\u001b[34m(cdf, mode_tlm)\u001b[39m\n\u001b[32m     35\u001b[39m     data.t_offset   = cdf[\u001b[33m'\u001b[39m\u001b[33mt_offset_32hz\u001b[39m\u001b[33m'\u001b[39m][...]\n\u001b[32m     36\u001b[39m \u001b[38;5;28;01mif\u001b[39;00m mode_tlm!=\u001b[33m'\u001b[39m\u001b[33mh\u001b[39m\u001b[33m'\u001b[39m:       \u001b[38;5;66;03m# L & M: from HK\u001b[39;00m\n\u001b[32m---> \u001b[39m\u001b[32m37\u001b[39m     data.EFD_Eu_ENA = \u001b[43mcdf\u001b[49m\u001b[43m[\u001b[49m\u001b[33;43m'\u001b[39;49m\u001b[33;43mEFD_Eu_ENA\u001b[39;49m\u001b[33;43m'\u001b[39;49m\u001b[43m]\u001b[49m[...]        \u001b[38;5;66;03m# CDF_UINT1 []      PRE_U_PWR\u001b[39;00m\n\u001b[32m     38\u001b[39m     data.EFD_Ev_ENA = cdf[\u001b[33m'\u001b[39m\u001b[33mEFD_Ev_ENA\u001b[39m\u001b[33m'\u001b[39m][...]        \u001b[38;5;66;03m# CDF_UINT1 []      PRE_V_PWR\u001b[39;00m\n\u001b[32m     39\u001b[39m     data.EFD_Hdump  = cdf[\u001b[33m'\u001b[39m\u001b[33mEFD_Hdump\u001b[39m\u001b[33m'\u001b[39m][...]         \u001b[38;5;66;03m# CDF_UINT1 []\u001b[39;00m\n",
      "\u001b[36mFile \u001b[39m\u001b[32m/opt/homebrew/Caskroom/miniforge/base/envs/3.12/lib/python3.12/site-packages/spacepy/pycdf/__init__.py:1715\u001b[39m, in \u001b[36mCDF.__getitem__\u001b[39m\u001b[34m(self, name)\u001b[39m\n\u001b[32m   1713\u001b[39m     \u001b[38;5;28;01mreturn\u001b[39;00m Var(\u001b[38;5;28mself\u001b[39m, name)\n\u001b[32m   1714\u001b[39m \u001b[38;5;28;01mexcept\u001b[39;00m CDFException \u001b[38;5;28;01mas\u001b[39;00m e:\n\u001b[32m-> \u001b[39m\u001b[32m1715\u001b[39m     \u001b[38;5;28;01mraise\u001b[39;00m \u001b[38;5;167;01mKeyError\u001b[39;00m(\u001b[33m'\u001b[39m\u001b[38;5;132;01m{0}\u001b[39;00m\u001b[33m: \u001b[39m\u001b[38;5;132;01m{1}\u001b[39;00m\u001b[33m'\u001b[39m.format(name, e))\n",
      "\u001b[31mKeyError\u001b[39m: 'EFD_Eu_ENA: NO_SUCH_VAR: Named variable not found in this CDF.'"
     ]
    }
   ],
   "source": [
    "class struct:\n",
    "    pass\n",
    "data = struct()\n",
    "num_list = len(data_list)\n",
    "for i in range(num_list):\n",
    "    data_name = data_list[i];   cdf_file = data_dir + data_name\n",
    "    cdf = pycdf.CDF(cdf_file);  data1 = bepi_e.efd_E_read(cdf, mode_tlm)\n",
    "    if i==0: data = data1;                               \n",
    "    else:    data = bepi_e.efd_E_add(data, data1, mode_tlm)\n",
    "    print(i, data.Eu.shape, cdf_file)\n",
    "data_name = os.path.split(data_name)[1];            print(\"data name:\", data_name)"
   ]
  },
  {
   "cell_type": "code",
   "execution_count": null,
   "id": "4c28c688",
   "metadata": {},
   "outputs": [],
   "source": [
    "data = bepi_e.efd_E_shaping(data, cal_mode, mode_tlm, mode_ant)"
   ]
  },
  {
   "cell_type": "code",
   "execution_count": null,
   "id": "f46357e4",
   "metadata": {},
   "outputs": [],
   "source": [
    "print(    \"    data.Eu(,dt)[V]:\", data.Eu.shape,             data.Eu[0][0],          data.Eu[-1][-1])\n",
    "print(    \"    data.Ev(,dt)[V]:\", data.Ev.shape,             data.Ev[0][0],          data.Ev[-1][-1])\n",
    "if mode_tlm!='h':\n",
    "    print(\"     data.EFD_Eu_ENA:\", data.EFD_Eu_ENA.shape,    \"\\t\", data.EFD_Eu_ENA[0],      data.EFD_Eu_ENA[-1])\n",
    "    print(\"     data.EFD_Ev_ENA:\", data.EFD_Ev_ENA.shape,    \"\\t\", data.EFD_Ev_ENA[0],      data.EFD_Ev_ENA[-1])\n",
    "    print(\"      data.EFD_Hdump:\", data.EFD_Hdump.shape,     \"\\t\", data.EFD_Hdump[0],       data.EFD_Hdump[-1])\n",
    "    print(\"      data.EFD_sweep:\", data.EFD_sweep.shape,     \"\\t\", data.EFD_sweep[0],       data.EFD_sweep[-1])\n",
    "    print(\"      data.PRE_U_PWR:\", data.PRE_U_PWR.shape,     \"\\t\", data.PRE_U_PWR[0],       data.PRE_U_PWR[-1])\n",
    "    print(\"      data.PRE_V_PWR:\", data.PRE_V_PWR.shape,     \"\\t\", data.PRE_V_PWR[0],       data.PRE_V_PWR[-1])\n",
    "    print(\"      data.PRE_U_CAL:\", data.PRE_U_CAL.shape,     \"\\t\", data.PRE_U_CAL[0],       data.PRE_U_CAL[-1])\n",
    "    print(\"      data.PRE_V_CAL:\", data.PRE_V_CAL.shape,     \"\\t\", data.PRE_V_CAL[0],       data.PRE_V_CAL[-1])\n",
    "    print(\"     data.PRE_U_LOOP:\", data.PRE_U_LOOP.shape,    \"\\t\", data.PRE_U_LOOP[0],      data.PRE_U_LOOP[-1])\n",
    "    print(\"       data.AM2P_ENA:\", data.AM2P_ENA.shape,      \"\\t\", data.AM2P_ENA[0],        data.AM2P_ENA[-1])\n",
    "print(    \" data.EFD_saturation:\", data.EFD_saturation.shape,\"\\t\", data.EFD_saturation[0],  data.EFD_saturation[-1])\n",
    "print(    \"   data.EFD_spinrate:\", data.EFD_spinrate.shape,  \"\\t\", data.EFD_spinrate[0],    data.EFD_spinrate[-1])\n",
    "print(    \"  data.EFD_spinphase:\", data.EFD_spinphase.shape, \"\\t\", data.EFD_spinphase[0],   data.EFD_spinphase[-1])\n",
    "print(    \"          data.epoch:\", data.epoch.shape,         \"\\t\", data.epoch[0],           data.epoch[-1])\n",
    "print(    \"         data.EFD_TI:\", data.EFD_TI.shape,        \"\\t\", '{:X}'.format(data.EFD_TI[0]), '{:X}'.format(data.EFD_TI[-1]))"
   ]
  },
  {
   "cell_type": "code",
   "execution_count": null,
   "id": "67562b9b",
   "metadata": {},
   "outputs": [],
   "source": [
    "date1 = data.epoch[0];  date1 = date1.strftime('%Y/%m/%d %R:%S')\n",
    "date2 = data.epoch[-1]; date2 = date2.strftime('%Y/%m/%d %R:%S')\n",
    "str_date = date1 + \"  -  \" + date2\n",
    "n_time0 = data.n_time\n",
    "\n",
    "if data.n_time>1: \n",
    "    print(\"    Epoch:\", str_date, \"(interval:\", data.epoch[1] - data.epoch[0], data.epoch[-1] - data.epoch[-2], \")\")\n",
    "else:\n",
    "    print(\"    Epoch:\", str_date)\n",
    "print(\"  Samples:\", n_time0)"
   ]
  },
  {
   "cell_type": "code",
   "execution_count": null,
   "id": "9f7b4444",
   "metadata": {},
   "outputs": [],
   "source": [
    "E = copy.deepcopy(data)"
   ]
  },
  {
   "cell_type": "markdown",
   "id": "8b99cd2f",
   "metadata": {},
   "source": [
    "### M data -- time resolution up"
   ]
  },
  {
   "cell_type": "code",
   "execution_count": null,
   "id": "94ac8133",
   "metadata": {},
   "outputs": [],
   "source": [
    "from datetime import timedelta\n",
    "Epoch_1d = E.epoch.tolist();   Epoch_E = []\n",
    "if (data.n_dt > 1):\n",
    "    for i in range(data.n_dt):\n",
    "        Epoch_E += Epoch_1d\n",
    "    for i in range(n_time0):\n",
    "        for j in range(data.n_dt):\n",
    "            Epoch_E[i*data.n_dt + j] = Epoch_1d[i] + timedelta(seconds = j/data.n_dt)\n",
    "else:\n",
    "    Epoch_E += Epoch_1d\n",
    "n_time1 = n_time0 * data.n_dt; num_1d = np.arange(n_time1)"
   ]
  },
  {
   "cell_type": "code",
   "execution_count": null,
   "id": "e666a41f",
   "metadata": {},
   "outputs": [],
   "source": [
    "# pot = bepi_cal.pot_cal(pot)     # CAL\n",
    "E.cf       = 0.0\n",
    "E.str_unit = \"mV\""
   ]
  },
  {
   "cell_type": "markdown",
   "id": "3cf817ff",
   "metadata": {},
   "source": [
    "### Peak"
   ]
  },
  {
   "cell_type": "code",
   "execution_count": null,
   "id": "0dea2d82",
   "metadata": {},
   "outputs": [],
   "source": [
    "bepi_e.E_peak(E, n_time0)"
   ]
  },
  {
   "cell_type": "code",
   "execution_count": null,
   "id": "abd06726",
   "metadata": {},
   "outputs": [],
   "source": [
    "p_max0 = p_raw_max + E.cf/10;  p_min0 = p_raw_min + E.cf/10\n",
    "p_max0  = np.ceil( np.nanmax( [np.nanmax(E.Eu), np.nanmax(E.Ev)] )*5)/5 + 1\n",
    "p_min0  = np.ceil( np.nanmin( [np.nanmin(E.Eu), np.nanmin(E.Ev)] )*5)/5 - 1\n",
    "print(\"conversion factor:\", '{:.1f}'.format(E.cf), \"    MAX-min:\", '{:.1f}'.format(p_max0), '{:.1f}'.format(p_min0), \"   str_unit:\", E.str_unit)"
   ]
  },
  {
   "cell_type": "code",
   "execution_count": null,
   "id": "9b10ca79",
   "metadata": {},
   "outputs": [],
   "source": [
    "if   mode_tlm=='l':     # L\n",
    "    str_Eu = 'Eu_4Hz (L)';    str_Ev = 'Ev_4Hz (L)';    str_E = 'E_4Hz (L)'\n",
    "elif mode_tlm=='m':     # M\n",
    "    str_Eu = 'Eu_8Hz (M)';    str_Ev = 'Ev_8Hz (M)';    str_E = 'E_8Hz (M)'\n",
    "else:                   # H\n",
    "    str_Eu = 'Eu_128Hz (H)';  str_Ev = 'Ev_128Hz (H)';  str_E = 'E_128Hz (H)'\n"
   ]
  },
  {
   "cell_type": "code",
   "execution_count": null,
   "id": "1f4293b7",
   "metadata": {},
   "outputs": [],
   "source": [
    "# NAN\n",
    "if gap_mode == 1 and time_mode == 0:\n",
    "    for i in range(n_time0-1):\n",
    "        dt = E.epoch[i+1] - E.epoch[i]\n",
    "        if dt.total_seconds() > 60:  bepi_e.E_nan(E, i)\n",
    "E.E = (E.Eu + E.Ev)/2"
   ]
  },
  {
   "cell_type": "markdown",
   "id": "6cc526e7",
   "metadata": {},
   "source": [
    "# RAW plot"
   ]
  },
  {
   "cell_type": "code",
   "execution_count": null,
   "id": "2ef60e31",
   "metadata": {},
   "outputs": [],
   "source": [
    "n0 = 0;             n1     = n_time0\n",
    "# n0 = n_time0//10;   n1     = n_time0//6-10\n",
    "p_max  = p_max0+2;  p_min  = p_min0\n",
    "\n",
    "fig = plt.figure(figsize=(14, 11))\n",
    "ax1 = fig.add_subplot(4, 1, 1);  ax2 = fig.add_subplot(4, 1, 2);  ax3 = fig.add_subplot(4, 1, 3);  ax4 = fig.add_subplot(4, 1, 4)\n",
    "ax1.plot(np.ravel(E.E [n0:n1]),                    '-y', linewidth=2.0, label=str_E)\n",
    "ax1.plot(np.ravel(E.Eu[n0:n1])+400,                '-r', linewidth=0.4, label=str_Eu + ' +400')\n",
    "ax1.plot(np.ravel(E.Ev[n0:n1])+200,                '-b', linewidth=0.4, label=str_Ev + ' +200')\n",
    "#\n",
    "if mode_tlm!='h':\n",
    "    ax2.plot(np.ravel(data.EFD_Eu_ENA[n0:n1]) +20, '-r', linewidth=3.0, label='EFD_Eu_ENA')       # ???\n",
    "    ax2.plot(np.ravel(data.EFD_Ev_ENA[n0:n1]) +18, '-b', linewidth=3.0, label='EFD_Ev_ENA')       # ???\n",
    "    ax2.plot(np.ravel(data.EFD_Hdump[n0:n1])  +16, '-g', linewidth=1.0, label='EFD_Hdump')         # ???\n",
    "    ax2.plot(np.ravel(data.EFD_sweep[n0:n1])  +14, '-c', linewidth=1.0, label='EFD_sweep')\n",
    "    ax2.plot(np.ravel(data.PRE_U_PWR[n0:n1])  +12, '-r', linewidth=3.0, label='PRE_U_PWR')         # ???\n",
    "    ax2.plot(np.ravel(data.PRE_V_PWR[n0:n1])  +10, '-b', linewidth=1.0, label='PRE_V_PWR')\n",
    "    ax2.plot(np.ravel(data.PRE_U_CAL[n0:n1])   +8, ':r', linewidth=1.0, label='PRE_U_CAL')\n",
    "    ax2.plot(np.ravel(data.PRE_V_CAL[n0:n1])   +6, ':b', linewidth=1.0, label='PRE_V_CAL')\n",
    "    ax2.plot(np.ravel(data.AM2P_ENA[n0:n1])    +4, ':k', linewidth=1.0, label='AM2P_ENA')\n",
    "    ax2.plot(np.ravel(data.PRE_U_LOOP[n0:n1])  +2, ':r', linewidth=3.0, label='PRE_U_LOOP')        # ???\n",
    "ax2.plot(np.ravel(data.EFD_saturation[n0:n1]),     '-k', linewidth=3.0, label='EFD_saturation')    # ???\n",
    "#\n",
    "ax3.plot(np.ravel(data.EFD_spinrate[n0:n1]),       '-g', linewidth=1.0, label='EFD_spinrate')\n",
    "# ax4.plot(np.ravel(data.EFD_spinphase),      '-r', linewidth=1.0, label='EFD_spinphase')\n",
    "#\n",
    "ax4.plot(np.ravel(data.epoch[n0:n1]),               '.', markersize=8)\n",
    "\n",
    "ax1.set_ylabel(E.str_unit);  ax4.set_xlabel(str_date)\n",
    "#\n",
    "title_label = '[BepiColombo PWI EFD Potential]  ' + data_name;  ax1.set_title(title_label)\n",
    "ax1.legend(loc='upper right', fontsize=8);  ax2.legend(loc='upper right', fontsize=8);  ax3.legend(loc='upper right', fontsize=8)\n",
    "\n",
    "xlim=[-.5, len(np.ravel(data.Eu[n0:n1])) -.5];    print(xlim); ax1.set_xlim(xlim)\n",
    "xlim=[-.5, len(np.ravel(data.epoch[n0:n1]))-.5];  print(xlim); ax2.set_xlim(xlim); ax3.set_xlim(xlim); ax4.set_xlim(xlim)\n",
    "# ylim=[10**p_min, 10**p_max];                    ax1.set_ylim(ylim)\n",
    "\n",
    "fig.subplots_adjust(hspace=0);  fig.show\n",
    "if dump_mode == 1:\n",
    "    png_fname = work_dir+data_name+'_raw.png'\n",
    "    fig.savefig(png_fname)"
   ]
  },
  {
   "cell_type": "code",
   "execution_count": null,
   "id": "24081081",
   "metadata": {},
   "outputs": [],
   "source": [
    "n0 = 0;                     n1     = n_time0\n",
    "# n0 = n_time0//10;         n1     = n_time0//6-10\n",
    "n0e    = n0 * data.n_dt;    n1e    = n1 * data.n_dt\n",
    "p_max  = p_max0+2;          p_min  = p_min0\n",
    "\n",
    "fig = plt.figure(figsize=(14, 11))\n",
    "ax1 = fig.add_subplot(3, 1, 1);  ax2 = fig.add_subplot(3, 1, 2);  ax3 = fig.add_subplot(3, 1, 3)\n",
    "ax1.plot(Epoch_E[n0e:n1e], np.ravel(E.E [n0:n1]),                    '-y', linewidth=2.0, label=str_E)\n",
    "ax1.plot(Epoch_E[n0e:n1e], np.ravel(E.Eu[n0:n1])+400,                '-r', linewidth=0.4, label=str_Eu + ' +400')\n",
    "ax1.plot(Epoch_E[n0e:n1e], np.ravel(E.Ev[n0:n1])+200,                '-b', linewidth=0.4, label=str_Ev + ' +200')\n",
    "#\n",
    "if mode_tlm!='h':\n",
    "    ax2.plot(data.epoch[n0:n1], np.ravel(data.EFD_Eu_ENA[n0:n1]) +20, '-r', linewidth=3.0, label='EFD_Eu_ENA')       # ???\n",
    "    ax2.plot(data.epoch[n0:n1], np.ravel(data.EFD_Ev_ENA[n0:n1]) +18, '-b', linewidth=3.0, label='EFD_Ev_ENA')       # ???\n",
    "    ax2.plot(data.epoch[n0:n1], np.ravel(data.EFD_Hdump[n0:n1])  +16, '-g', linewidth=1.0, label='EFD_Hdump')         # ???\n",
    "    ax2.plot(data.epoch[n0:n1], np.ravel(data.EFD_sweep[n0:n1])  +14, '-c', linewidth=1.0, label='EFD_sweep')\n",
    "    ax2.plot(data.epoch[n0:n1], np.ravel(data.PRE_U_PWR[n0:n1])  +12, '-r', linewidth=3.0, label='PRE_U_PWR')         # ???\n",
    "    ax2.plot(data.epoch[n0:n1], np.ravel(data.PRE_V_PWR[n0:n1])  +10, '-b', linewidth=1.0, label='PRE_V_PWR')\n",
    "    ax2.plot(data.epoch[n0:n1], np.ravel(data.PRE_U_CAL[n0:n1])   +8, ':r', linewidth=1.0, label='PRE_U_CAL')\n",
    "    ax2.plot(data.epoch[n0:n1], np.ravel(data.PRE_V_CAL[n0:n1])   +6, ':b', linewidth=1.0, label='PRE_V_CAL')\n",
    "    ax2.plot(data.epoch[n0:n1], np.ravel(data.AM2P_ENA[n0:n1])    +4, ':k', linewidth=1.0, label='AM2P_ENA')\n",
    "    ax2.plot(data.epoch[n0:n1], np.ravel(data.PRE_U_LOOP[n0:n1])  +2, ':r', linewidth=3.0, label='PRE_U_LOOP')        # ???\n",
    "ax2.plot(np.ravel(data.EFD_saturation[n0:n1]),     '-k', linewidth=3.0, label='EFD_saturation')    # ???\n",
    "#\n",
    "ax3.plot(np.ravel(data.EFD_spinrate[n0:n1]),       '-g', linewidth=1.0, label='EFD_spinrate')\n",
    "\n",
    "ax1.set_ylabel(E.str_unit);  ax4.set_xlabel(str_date)\n",
    "#\n",
    "title_label = '[BepiColombo PWI EFD Potential]  ' + data_name;  ax1.set_title(title_label)\n",
    "ax1.legend(loc='upper right', fontsize=8);  ax2.legend(loc='upper right', fontsize=8);  ax3.legend(loc='upper right', fontsize=8)\n",
    "\n",
    "xlim=[Epoch_E[n0e],   Epoch_E[n1e-1]];    print(xlim); ax1.set_xlim(xlim)\n",
    "xlim=[data.epoch[n0], data.epoch[n1-1]];    print(xlim); ax2.set_xlim(xlim); ax3.set_xlim(xlim)\n",
    "# ylim=[10**p_min, 10**p_max];                    ax1.set_ylim(ylim)\n",
    "\n",
    "fig.subplots_adjust(hspace=0);  fig.show\n",
    "if dump_mode == 1:\n",
    "    png_fname = work_dir+data_name+'_raw2.png'\n",
    "    fig.savefig(png_fname)"
   ]
  },
  {
   "cell_type": "markdown",
   "id": "a0fa001b",
   "metadata": {},
   "source": [
    "# E-field"
   ]
  },
  {
   "cell_type": "code",
   "execution_count": null,
   "id": "736696bd",
   "metadata": {},
   "outputs": [],
   "source": [
    "n0     = 0;                 n1     = n_time0\n",
    "# n0     = n_time0//10;       n1     = n_time0//6-10\n",
    "n0e    = n0 * data.n_dt;    n1e    = n1 * data.n_dt\n",
    "p_max  = p_max0+2;          p_min  = p_min0\n",
    "\n",
    "fig = plt.figure(figsize=(14, 11))\n",
    "if time_mode == 1:\n",
    "    ax1 = fig.add_subplot(2, 1, 1); ax2 = fig.add_subplot(2, 1, 2)\n",
    "    ax1.plot(num_1d[n0e:n1e],  np.ravel(E.E [n0:n1]),       '-y', linewidth=2.0, label=str_E)\n",
    "    ax1.plot(num_1d[n0e:n1e],  np.ravel(E.Eu[n0:n1])-100,   '-r', linewidth=0.4, label=str_Eu + ' -100')\n",
    "    ax1.plot(num_1d[n0e:n1e],  np.ravel(E.Ev[n0:n1])-200,   '-b', linewidth=0.4, label=str_Eu + ' -200')\n",
    "    ax2.plot(num_1d[n0e:n1e],  Epoch_E[n0e:n1e],            '-k', linewidth=2.0, label='Epoch')\n",
    "    ax2.set_xlabel(str_date)\n",
    "else:\n",
    "    ax1 = fig.add_subplot(1, 1, 1)\n",
    "    ax1.plot(Epoch_E[n0e:n1e], np.ravel(E.E [n0:n1]),       '-y', linewidth=2.0, label=str_E)\n",
    "    ax1.plot(Epoch_E[n0e:n1e], np.ravel(E.Eu[n0:n1])-100,   '-r', linewidth=0.4, label=str_Eu + ' -100')\n",
    "    ax1.plot(Epoch_E[n0e:n1e], np.ravel(E.Ev[n0:n1])-200,   '-b', linewidth=0.4, label=str_Eu + ' -200')\n",
    "    ax1.set_xlabel(str_date)\n",
    "ax1.set_ylabel(E.str_unit)\n",
    "#\n",
    "title_label = '[BepiColombo PWI EFD Potential]  ' + data_name;  ax1.set_title(title_label)\n",
    "ax1.legend(loc='upper right', fontsize=8)\n",
    "\n",
    "if time_mode == 1:\n",
    "    xlim=[num_1d[n0e], num_1d[n1e-1]]\n",
    "    ax1.set_xlim(xlim); ax2.set_xlim(xlim)\n",
    "else:\n",
    "    xlim=[Epoch_E[n0e], Epoch_E[n1e-1]]\n",
    "    #E_min = '2024-08-21 04:00:00';  t_min = datetime.datetime.strptime(E_min, \"%Y-%m-%d %H:%M:%S\");  \n",
    "    #E_max = '2024-08-21 19:00:00';  t_max = datetime.datetime.strptime(E_max, \"%Y-%m-%d %H:%M:%S\");  xlim=[t_min, t_max]\n",
    "    ax1.set_xlim(xlim)\n",
    "# ylim=[p_min, p_max];  ax1.set_ylim(ylim)\n",
    "\n",
    "fig.subplots_adjust(hspace=0);  fig.show\n",
    "if dump_mode == 1:\n",
    "    png_fname = work_dir+data_name+'_E.png'\n",
    "    fig.savefig(png_fname)"
   ]
  }
 ],
 "metadata": {
  "kernelspec": {
   "display_name": "3.12",
   "language": "python",
   "name": "python3"
  },
  "language_info": {
   "codemirror_mode": {
    "name": "ipython",
    "version": 3
   },
   "file_extension": ".py",
   "mimetype": "text/x-python",
   "name": "python",
   "nbconvert_exporter": "python",
   "pygments_lexer": "ipython3",
   "version": "3.12.7"
  }
 },
 "nbformat": 4,
 "nbformat_minor": 5
}

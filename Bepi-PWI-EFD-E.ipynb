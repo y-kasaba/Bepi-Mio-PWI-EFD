{
 "cells": [
  {
   "attachments": {},
   "cell_type": "markdown",
   "id": "a116756d",
   "metadata": {},
   "source": [
    "# BepiColombo PWI EFD E-field: L1a QL -- 2025/9/20"
   ]
  },
  {
   "cell_type": "code",
   "execution_count": null,
   "id": "bca50671",
   "metadata": {},
   "outputs": [],
   "source": [
    "import copy\n",
    "import datetime\n",
    "import matplotlib.pyplot as plt\n",
    "import numpy as np\n",
    "import os\n",
    "import sys\n",
    "from spacepy import pycdf"
   ]
  },
  {
   "cell_type": "code",
   "execution_count": null,
   "metadata": {},
   "outputs": [],
   "source": [
    "sys.path.append('./lib/')\n",
    "import Bepi_PWI_EFD_E_data as bepi_data\n",
    "import Bepi_PWI_EFD_E_lib  as bepi_e\n",
    "# import Bepi_PWI_EFD_cal_lib  as bepi_cal"
   ]
  },
  {
   "cell_type": "markdown",
   "metadata": {},
   "source": [
    "# parameter set -- to be modified"
   ]
  },
  {
   "cell_type": "code",
   "execution_count": null,
   "id": "05e8da84",
   "metadata": {},
   "outputs": [],
   "source": [
    "# *** Dump ***\n",
    "dump_mode = 0                           # 0: no-dump  1:plot dump\n",
    "\n",
    "# *** CAL ***\n",
    "unit_mode = 2                           # [Power]     0: RAW    1: V    2: V/m\n",
    "band_mode = 0                           # [Power]     0: sum    1: /Hz\n",
    "cal_mode  = 2                           # [Power]     0: background     1: CAL     2: all\n",
    "\n",
    "# *** Unit ***\n",
    "time_mode = 0                           # [Time]      0: Epoch   1: data number\n",
    "gap_mode  = 1                           # [gap]       0: n/a     1: gap\n",
    "\n",
    "# *** Power range set ***\n",
    "p_raw_max = +10                         # background: 7.5   CAL: 10\n",
    "p_raw_min = -10                         # background: 2.5   CAL: 5\n",
    "\n",
    "# *** Directory set: set by User ***\n",
    "work_dir = './ql/'   # Plot dump folder"
   ]
  },
  {
   "attachments": {},
   "cell_type": "markdown",
   "id": "093823c4",
   "metadata": {},
   "source": [
    "# get CDF data"
   ]
  },
  {
   "cell_type": "code",
   "execution_count": null,
   "id": "a619adb8",
   "metadata": {},
   "outputs": [],
   "source": [
    "mode_cdf = 11     # 00:flight-L1  10:flight-L1p   1:test-L1    11:test-L1p\n",
    "mode_tlm = 'l'      # l, m, h\n",
    "mode_ant = 0        # 0:both    1:U(WPT)    2:V(MEF)\n",
    "\n",
    "# TEST\n",
    "# date = '20250822'       # Initial Check DryRun #3\n",
    "date = '20250801'       # Initial Check DryRun #3\n",
    "# date = '20250625'     # Initial Check DryRun #2\n",
    "# date = '2025060?'     # Initial Check DryRun #1\n",
    "# date = '20250606'     # Initial Check DryRun #1\n",
    "# date = '20250605'     # Initial Check DryRun #1\n",
    "# date = '20250606'     # Initial Check DryRun #1\n",
    "# date = '20250625'     # Initial Check DryRun #2\n",
    "\n",
    "# Flight -- only 'l'\n",
    "# date='20250410'\n",
    "# date='20240409'\n",
    "# date='20231106'\n",
    "# date='20231026'           # WPT: CAL\n",
    "# date='20230730'\n",
    "# date='20230522'\n",
    "# date='20230228'           # WPT: CAL\n",
    "# date='20221107'\n",
    "# date='20220517'\n",
    "# date='20220311'\n",
    "# date='20211124'\n",
    "# date='20210617'\n",
    "# date='20201217'\n",
    "# date='20200304'\n",
    "# date='20190630'\n",
    "# date='2018080?'           # WPT latch release\n",
    "# date='20190807'           # WPT latch release\n",
    "# date='20190806'           # WPT latch release\n",
    "# date='20190805'           # WPT precheck\n",
    "# date='20190802'           # WPT precheck\n",
    "# date='20190701'           # WPT detailed check\n",
    "# date='20190515'\n",
    "# date='201811[0-1][9,0]'   # Init check\n",
    "# date='20181111'           # Init check\n",
    "# date='20181110'           # Init check\n",
    "# date='20181109'           # Init check\n",
    "\n",
    "data_dir, data_list = bepi_data.datalist(date, mode_tlm, mode_cdf)       # [date]   yyyymmdd: group read    others: file list"
   ]
  },
  {
   "cell_type": "code",
   "execution_count": null,
   "id": "fdca912c",
   "metadata": {},
   "outputs": [],
   "source": [
    "class struct:\n",
    "    pass\n",
    "data = struct()\n",
    "num_list = len(data_list)\n",
    "for i in range(num_list):\n",
    "    data_name = data_list[i];   cdf_file = data_dir + data_name\n",
    "    cdf = pycdf.CDF(cdf_file);  data1 = bepi_e.efd_E_read(cdf, mode_tlm)\n",
    "    if i==0: data = data1;                               \n",
    "    else:    data = bepi_e.efd_E_add(data, data1, mode_tlm)\n",
    "    print(i, data.Eu.shape, cdf_file)\n",
    "data_name = os.path.split(data_name)[1];            print(\"data name:\", data_name)"
   ]
  },
  {
   "cell_type": "code",
   "execution_count": null,
   "id": "4c28c688",
   "metadata": {},
   "outputs": [],
   "source": [
    "data = bepi_e.efd_E_shaping(data, cal_mode, mode_tlm, mode_ant)"
   ]
  },
  {
   "cell_type": "code",
   "execution_count": null,
   "id": "f46357e4",
   "metadata": {},
   "outputs": [],
   "source": [
    "print(   \"     data.Eu(,dt)[V]:\", data.Eu.shape,            \"\\t\", data.Eu[0][0],          data.Eu[-1][-1])\n",
    "print(   \"     data.Ev(,dt)[V]:\", data.Ev.shape,            \"\\t\", data.Ev[0][0],          data.Ev[-1][-1])\n",
    "if mode_tlm!='h':\n",
    "    print(\"     data.PRE_U_OBS:\", data.PRE_U_OBS.shape,     \"\\t\", data.PRE_U_OBS[0],        data.PRE_U_OBS[-1])\n",
    "    print(\"     data.PRE_V_OBS:\", data.PRE_V_OBS.shape,     \"\\t\", data.PRE_V_OBS[0],        data.PRE_V_OBS[-1])\n",
    "    print(\"    data.PRE_U_ACAL:\", data.PRE_U_ACAL.shape,    \"\\t\", data.PRE_U_ACAL[0],       data.PRE_U_ACAL[-1])\n",
    "    print(\"       data.EFD_CAL:\", data.EFD_CAL.shape,       \"\\t\", data.EFD_CAL[0],          data.EFD_CAL[-1])\n",
    "    print(\"        data.BIAS_U:\", data.BIAS_U.shape,        \"\\t\", data.BIAS_U[0],           data.BIAS_U[-1])\n",
    "    print(\"        data.BIAS_V:\", data.BIAS_V.shape,        \"\\t\", data.BIAS_V[0],           data.BIAS_V[-1])\n",
    "    print(\"      data.AM2P_ACT:\", data.AM2P_ACT.shape,      \"\\t\", data.AM2P_ACT[0],         data.AM2P_ACT[-1])\n",
    "    print(\"     data.EFD_Hdump:\", data.EFD_Hdump.shape,     \"\\t\", data.EFD_Hdump[0],        data.EFD_Hdump[-1])\n",
    "    print(\"     data.EFD_U_ENA:\", data.EFD_U_ENA.shape,     \"\\t\", data.EFD_U_ENA[0],        data.EFD_U_ENA[-1])\n",
    "    print(\"     data.EFD_V_ENA:\", data.EFD_V_ENA.shape,     \"\\t\", data.EFD_V_ENA[0],        data.EFD_V_ENA[-1])\n",
    "    #\n",
    "    print(\"    data.BIAS_LVL_U1:\", data.BIAS_LVL_U1.shape,   \"\\t\", data.BIAS_LVL_U1[0],     data.BIAS_LVL_U1[-1])\n",
    "    print(\"    data.BIAS_LVL_U2:\", data.BIAS_LVL_U2.shape,   \"\\t\", data.BIAS_LVL_U2[0],     data.BIAS_LVL_U2[-1])\n",
    "    print(\"    data.BIAS_LVL_V1:\", data.BIAS_LVL_V1.shape,   \"\\t\", data.BIAS_LVL_V1[0],     data.BIAS_LVL_V1[-1])\n",
    "    print(\"    data.BIAS_LVL_V2:\", data.BIAS_LVL_V2.shape,   \"\\t\", data.BIAS_LVL_V2[0],     data.BIAS_LVL_V2[-1])\n",
    "print(    \" data.EFD_saturation:\", data.EFD_saturation.shape,\"\\t\\t\", data.EFD_saturation[0],  data.EFD_saturation[-1])\n",
    "print(    \"   data.EFD_spinrate:\", data.EFD_spinrate.shape,  \"\\t\\t\", data.EFD_spinrate[0],    data.EFD_spinrate[-1])\n",
    "print(    \"  data.EFD_spinphase:\", data.EFD_spinphase.shape, \"\\t\\t\", data.EFD_spinphase[0],   data.EFD_spinphase[-1])\n",
    "if mode_tlm=='h':\n",
    "    print(\"   data.EFD_ti_index:\", data.EFD_ti_index.shape,   \"\\t\", '{:X}'.format(data.EFD_ti_index[0][0]), '{:X}'.format(data.EFD_ti_index[-1][-1]))\n",
    "    print(\"data.EFD_ewo_counter:\", data.EFD_ewo_counter.shape,\"\\t\", data.EFD_ewo_counter[0][0],   data.EFD_ewo_counter[-1][-1])\n",
    "    print(\"       data.EFD_size:\", data.EFD_size.shape,       \"\\t\", data.EFD_size[0][0],          data.EFD_size[-1][-1])\n",
    "print(    \"         data.EFD_TI:\", data.EFD_TI.shape,       \"\\t\\t\", '{:X}'.format(data.EFD_TI[0]), '{:X}'.format(data.EFD_TI[-1]))\n",
    "print(    \"          data.epoch:\", data.epoch.shape,        \"\\t\\t\", data.epoch[0],           data.epoch[-1])"
   ]
  },
  {
   "cell_type": "code",
   "execution_count": null,
   "id": "67562b9b",
   "metadata": {},
   "outputs": [],
   "source": [
    "date1 = data.epoch[0];  date1 = date1.strftime('%Y/%m/%d %R:%S')\n",
    "date2 = data.epoch[-1]; date2 = date2.strftime('%Y/%m/%d %R:%S')\n",
    "str_date = date1 + \"  -  \" + date2\n",
    "n_time0 = data.n_time\n",
    "\n",
    "if data.n_time>1: \n",
    "    print(\"    Epoch:\", str_date, \"(interval:\", data.epoch[1] - data.epoch[0], data.epoch[-1] - data.epoch[-2], \")\")\n",
    "else:\n",
    "    print(\"    Epoch:\", str_date)\n",
    "print(\"  Samples:\", n_time0)"
   ]
  },
  {
   "cell_type": "code",
   "execution_count": null,
   "id": "9f7b4444",
   "metadata": {},
   "outputs": [],
   "source": [
    "E = copy.deepcopy(data)"
   ]
  },
  {
   "cell_type": "markdown",
   "id": "8b99cd2f",
   "metadata": {},
   "source": [
    "### M data -- time resolution up"
   ]
  },
  {
   "cell_type": "code",
   "execution_count": null,
   "id": "94ac8133",
   "metadata": {},
   "outputs": [],
   "source": [
    "from datetime import timedelta\n",
    "Epoch_1d = E.epoch.tolist();   Epoch_E = []\n",
    "if (data.n_dt > 1):\n",
    "    for i in range(data.n_dt):\n",
    "        Epoch_E += Epoch_1d\n",
    "    for i in range(n_time0):\n",
    "        for j in range(data.n_dt):\n",
    "            Epoch_E[i*data.n_dt + j] = Epoch_1d[i] + timedelta(seconds = j/data.n_dt)\n",
    "else:\n",
    "    Epoch_E += Epoch_1d\n",
    "n_time1 = n_time0 * data.n_dt; num_1d = np.arange(n_time1)"
   ]
  },
  {
   "cell_type": "code",
   "execution_count": null,
   "id": "e666a41f",
   "metadata": {},
   "outputs": [],
   "source": [
    "# pot = bepi_cal.pot_cal(pot)     # CAL\n",
    "E.cf       = 0.0\n",
    "E.str_unit = \"mV/m\""
   ]
  },
  {
   "cell_type": "markdown",
   "id": "3cf817ff",
   "metadata": {},
   "source": [
    "### Peak"
   ]
  },
  {
   "cell_type": "code",
   "execution_count": null,
   "id": "0dea2d82",
   "metadata": {},
   "outputs": [],
   "source": [
    "bepi_e.E_peak(E, n_time0)"
   ]
  },
  {
   "cell_type": "code",
   "execution_count": null,
   "id": "abd06726",
   "metadata": {},
   "outputs": [],
   "source": [
    "p_max0 = p_raw_max + E.cf/10;  p_min0 = p_raw_min + E.cf/10\n",
    "p_max0  = np.ceil( np.nanmax( [np.nanmax(E.Eu), np.nanmax(E.Ev)] )*5)/5 + 1\n",
    "p_min0  = np.ceil( np.nanmin( [np.nanmin(E.Eu), np.nanmin(E.Ev)] )*5)/5 - 1\n",
    "print(\"conversion factor:\", '{:.1f}'.format(E.cf), \"    MAX-min:\", '{:.1f}'.format(p_max0), '{:.1f}'.format(p_min0), \"   str_unit:\", E.str_unit)"
   ]
  },
  {
   "cell_type": "code",
   "execution_count": null,
   "id": "9b10ca79",
   "metadata": {},
   "outputs": [],
   "source": [
    "if   mode_tlm=='l':     # L\n",
    "    str_Eu = 'Eu_4Hz (L)';    str_Ev = 'Ev_4Hz (L)';    str_E = 'E_4Hz (L)'\n",
    "elif mode_tlm=='m':     # M\n",
    "    str_Eu = 'Eu_8Hz (M)';    str_Ev = 'Ev_8Hz (M)';    str_E = 'E_8Hz (M)'\n",
    "else:                   # H\n",
    "    str_Eu = 'Eu_128Hz (H)';  str_Ev = 'Ev_128Hz (H)';  str_E = 'E_128Hz (H)'\n"
   ]
  },
  {
   "cell_type": "code",
   "execution_count": null,
   "id": "1f4293b7",
   "metadata": {},
   "outputs": [],
   "source": [
    "# NAN\n",
    "if gap_mode == 1 and time_mode == 0:\n",
    "    for i in range(n_time0-1):\n",
    "        dt = E.epoch[i+1] - E.epoch[i]\n",
    "        if dt.total_seconds() > 60:  bepi_e.E_nan(E, i)\n",
    "E.E = (E.Eu + E.Ev)/2"
   ]
  },
  {
   "cell_type": "markdown",
   "id": "6cc526e7",
   "metadata": {},
   "source": [
    "# RAW plot"
   ]
  },
  {
   "cell_type": "code",
   "execution_count": null,
   "id": "2ef60e31",
   "metadata": {},
   "outputs": [],
   "source": [
    "n0 = 0;             n1     = n_time0\n",
    "# n0 = n_time0//10;   n1     = n_time0//6-10\n",
    "p_max  = p_max0+2;  p_min  = p_min0\n",
    "\n",
    "fig = plt.figure(figsize=(14, 11))\n",
    "ax1 = fig.add_subplot(3, 1, 1);  ax2 = fig.add_subplot(3, 1, 2);  ax3 = fig.add_subplot(3, 1, 3)\n",
    "ax1.plot(np.ravel(E.E [n0:n1]),                    '-y', linewidth=2.0, label=str_E)\n",
    "ax1.plot(np.ravel(E.Eu[n0:n1])+400,                '-r', linewidth=0.4, label=str_Eu + ' +400')\n",
    "ax1.plot(np.ravel(E.Ev[n0:n1])+200,                '-b', linewidth=0.4, label=str_Ev + ' +200')\n",
    "if mode_tlm!='h':\n",
    "    ax2.plot(np.ravel(data.PRE_U_OBS [n0:n1]) +20, '-r', linewidth=2.0, label='PRE_U_OBS')\n",
    "    ax2.plot(np.ravel(data.PRE_V_OBS [n0:n1]) +18, '-b', linewidth=1.0, label='PRE_V_OBS')\n",
    "    ax2.plot(np.ravel(data.PRE_U_ACAL[n0:n1]) +16, ':r', linewidth=2.0, label='PRE_U_ACAL')\n",
    "    ax2.plot(np.ravel(data.EFD_CAL   [n0:n1]) +14, ':b', linewidth=1.0, label='EFD_CAL')\n",
    "    ax2.plot(np.ravel(data.BIAS_U    [n0:n1]) +12, '-r', linewidth=2.0, label='BIAS_U')\n",
    "    ax2.plot(np.ravel(data.BIAS_V    [n0:n1]) +10, '-b', linewidth=1.0, label='BIAS_V')\n",
    "    ax2.plot(np.ravel(data.EFD_U_ENA [n0:n1])  +8, ':r', linewidth=2.0, label='EFD_U_ENA')\n",
    "    ax2.plot(np.ravel(data.EFD_V_ENA [n0:n1])  +6, ':b', linewidth=1.0, label='EFD_V_ENA')\n",
    "    ax2.plot(np.ravel(data.AM2P_ACT  [n0:n1])  +4, '-r', linewidth=2.0, label='AM2P_ACT')\n",
    "    ax2.plot(np.ravel(data.EFD_Hdump [n0:n1])  +2, '-g', linewidth=1.0, label='EFD_Hdump')\n",
    "ax2.plot(np.ravel(data.EFD_saturation[n0:n1]),     '-k', linewidth=3.0, label='EFD_saturation')    # ???\n",
    "# ax3.plot(np.ravel(data.EFD_spinrate[n0:n1]), '-g', linewidth=1.0, label='EFD_spinrate')\n",
    "# ax4.plot(np.ravel(data.EFD_spinphase[n0:n1]),'-r', linewidth=1.0, label='EFD_spinphase')\n",
    "ax3.plot(np.ravel(data.epoch[n0:n1]),          '.', markersize=8)\n",
    "ax3.set_xlabel(str_date)\n",
    "\n",
    "ax1.set_ylabel(E.str_unit)\n",
    "title_label = '[BepiColombo PWI EFD Potential]  ' + data_name;  ax1.set_title(title_label)\n",
    "ax1.legend(loc='upper right', fontsize=8);  ax2.legend(loc='upper right', fontsize=8);  ax3.legend(loc='upper right', fontsize=8)\n",
    "\n",
    "xlim=[-.5, len(np.ravel(data.Eu[n0:n1]))   -.5];  print(xlim); ax1.set_xlim(xlim)\n",
    "xlim=[-.5, len(np.ravel(data.epoch[n0:n1]))-.5];  print(xlim); ax2.set_xlim(xlim); ax3.set_xlim(xlim)\n",
    "# ylim=[10**p_min, 10**p_max];                    ax1.set_ylim(ylim)\n",
    "\n",
    "fig.subplots_adjust(hspace=0);  fig.show\n",
    "if dump_mode == 1:\n",
    "    png_fname = work_dir+data_name+'_raw.png'\n",
    "    fig.savefig(png_fname)"
   ]
  },
  {
   "cell_type": "code",
   "execution_count": null,
   "id": "24081081",
   "metadata": {},
   "outputs": [],
   "source": [
    "n0 = 0;                     n1     = n_time0\n",
    "# n0 = 15000;                 n1     = 15400\n",
    "n0e    = n0 * data.n_dt;    n1e    = n1 * data.n_dt\n",
    "p_max  = p_max0+2;          p_min  = p_min0\n",
    "\n",
    "fig = plt.figure(figsize=(14, 11))\n",
    "ax1 = fig.add_subplot(2, 1, 1);  ax2 = fig.add_subplot(2, 1, 2)\n",
    "ax1.plot(Epoch_E[n0e:n1e], np.ravel(E.E [n0:n1]),                    '-y', linewidth=2.0, label=str_E)\n",
    "ax1.plot(Epoch_E[n0e:n1e], np.ravel(E.Eu[n0:n1])+400,                '-r', linewidth=0.4, label=str_Eu + ' +400')\n",
    "ax1.plot(Epoch_E[n0e:n1e], np.ravel(E.Ev[n0:n1])+200,                '-b', linewidth=0.4, label=str_Ev + ' +200')\n",
    "if mode_tlm!='h':\n",
    "    ax2.plot(data.epoch[n0:n1], np.ravel(data.PRE_U_OBS [n0:n1]) +20, '-r', linewidth=2.0, label='PRE_U_OBS')\n",
    "    ax2.plot(data.epoch[n0:n1], np.ravel(data.PRE_V_OBS [n0:n1]) +18, '-b', linewidth=1.0, label='PRE_V_OBS')\n",
    "    ax2.plot(data.epoch[n0:n1], np.ravel(data.PRE_U_ACAL[n0:n1]) +16, ':r', linewidth=2.0, label='PRE_U_ACAL')\n",
    "    ax2.plot(data.epoch[n0:n1], np.ravel(data.EFD_CAL   [n0:n1]) +14, ':b', linewidth=1.0, label='EFD_CAL')\n",
    "    ax2.plot(data.epoch[n0:n1], np.ravel(data.BIAS_U    [n0:n1]) +12, '-r', linewidth=2.0, label='BIAS_U')\n",
    "    ax2.plot(data.epoch[n0:n1], np.ravel(data.BIAS_V    [n0:n1]) +10, '-b', linewidth=1.0, label='BIAS_V')\n",
    "    ax2.plot(data.epoch[n0:n1], np.ravel(data.EFD_U_ENA [n0:n1])  +8, ':r', linewidth=2.0, label='EFD_U_ENA')\n",
    "    ax2.plot(data.epoch[n0:n1], np.ravel(data.EFD_V_ENA [n0:n1])  +6, ':b', linewidth=1.0, label='EFD_V_ENA')\n",
    "    ax2.plot(data.epoch[n0:n1], np.ravel(data.AM2P_ACT  [n0:n1])  +4, '-r', linewidth=2.0, label='AM2P_ACT')\n",
    "    ax2.plot(data.epoch[n0:n1], np.ravel(data.EFD_Hdump [n0:n1])  +2, '-g', linewidth=1.0, label='EFD_Hdump')\n",
    "ax2.plot(data.epoch[n0:n1], np.ravel(data.EFD_saturation[n0:n1]),     '-k', linewidth=3.0, label='EFD_saturation')    # ???\n",
    "# ax3.plot(data.epoch[n0:n1], np.ravel(data.EFD_spinrate[n0:n1]),     '-g', linewidth=1.0, label='EFD_spinrate')\n",
    "\n",
    "ax1.set_ylabel(E.str_unit);  ax2.set_xlabel(str_date)\n",
    "title_label = '[BepiColombo PWI EFD Potential]  ' + data_name;  ax1.set_title(title_label)\n",
    "ax1.legend(loc='upper right', fontsize=8);  ax2.legend(loc='upper right', fontsize=8);  ax3.legend(loc='upper right', fontsize=8)\n",
    "ax2.set_xlabel(str_date)\n",
    "\n",
    "xlim=[Epoch_E[n0e],   Epoch_E[n1e-1]]\n",
    "#E_min = '2025-08-01 02:08:47';  t_min = datetime.datetime.strptime(E_min, \"%Y-%m-%d %H:%M:%S\");  \n",
    "#E_max = '2025-08-01 02:08:50';  t_max = datetime.datetime.strptime(E_max, \"%Y-%m-%d %H:%M:%S\");  xlim=[t_min, t_max]\n",
    "print(xlim); ax1.set_xlim(xlim); ax2.set_xlim(xlim)\n",
    "# ylim=[10**p_min, 10**p_max];                    ax1.set_ylim(ylim)\n",
    "\n",
    "fig.subplots_adjust(hspace=0);  fig.show\n",
    "if dump_mode == 1:\n",
    "    png_fname = work_dir+data_name+'_raw2.png'\n",
    "    fig.savefig(png_fname)"
   ]
  },
  {
   "cell_type": "markdown",
   "id": "a0fa001b",
   "metadata": {},
   "source": [
    "# E-field"
   ]
  },
  {
   "cell_type": "code",
   "execution_count": null,
   "id": "736696bd",
   "metadata": {},
   "outputs": [],
   "source": [
    "n0     = 0;                 n1     = n_time0\n",
    "# n0     = n_time0//10;       n1     = n_time0//6-10\n",
    "n0e    = n0 * data.n_dt;    n1e    = n1 * data.n_dt\n",
    "p_max  = p_max0+2;          p_min  = p_min0\n",
    "\n",
    "fig = plt.figure(figsize=(14, 11))\n",
    "if time_mode == 1:\n",
    "    ax1 = fig.add_subplot(2, 1, 1); ax2 = fig.add_subplot(2, 1, 2)\n",
    "    ax1.plot(num_1d[n0e:n1e],  np.ravel(E.E [n0:n1]),       '-y', linewidth=2.0, label=str_E)\n",
    "    ax1.plot(num_1d[n0e:n1e],  np.ravel(E.Eu[n0:n1])-100,   '-r', linewidth=0.4, label=str_Eu + ' -100')\n",
    "    ax1.plot(num_1d[n0e:n1e],  np.ravel(E.Ev[n0:n1])-200,   '-b', linewidth=0.4, label=str_Eu + ' -200')\n",
    "    ax2.plot(num_1d[n0e:n1e],  Epoch_E[n0e:n1e],            '-k', linewidth=2.0, label='Epoch')\n",
    "    ax2.set_xlabel(str_date)\n",
    "else:\n",
    "    ax1 = fig.add_subplot(1, 1, 1)\n",
    "    ax1.plot(Epoch_E[n0e:n1e], np.ravel(E.E [n0:n1]),       '-y', linewidth=2.0, label=str_E)\n",
    "    ax1.plot(Epoch_E[n0e:n1e], np.ravel(E.Eu[n0:n1])-100,   '-r', linewidth=0.4, label=str_Eu + ' -100')\n",
    "    ax1.plot(Epoch_E[n0e:n1e], np.ravel(E.Ev[n0:n1])-200,   '-b', linewidth=0.4, label=str_Eu + ' -200')\n",
    "    ax1.set_xlabel(str_date)\n",
    "ax1.set_ylabel(E.str_unit)\n",
    "#\n",
    "title_label = '[BepiColombo PWI EFD Potential]  ' + data_name;  ax1.set_title(title_label)\n",
    "ax1.legend(loc='upper right', fontsize=8)\n",
    "\n",
    "if time_mode == 1:\n",
    "    xlim=[num_1d[n0e], num_1d[n1e-1]]\n",
    "    ax1.set_xlim(xlim); ax2.set_xlim(xlim)\n",
    "else:\n",
    "    xlim=[Epoch_E[n0e], Epoch_E[n1e-1]]\n",
    "    #E_min = '2024-08-21 04:00:00';  t_min = datetime.datetime.strptime(E_min, \"%Y-%m-%d %H:%M:%S\");  \n",
    "    #E_max = '2024-08-21 19:00:00';  t_max = datetime.datetime.strptime(E_max, \"%Y-%m-%d %H:%M:%S\");  xlim=[t_min, t_max]\n",
    "    ax1.set_xlim(xlim)\n",
    "# ylim=[p_min, p_max];  ax1.set_ylim(ylim)\n",
    "\n",
    "fig.subplots_adjust(hspace=0);  fig.show\n",
    "if dump_mode == 1:\n",
    "    png_fname = work_dir+data_name+'_E.png'\n",
    "    fig.savefig(png_fname)"
   ]
  },
  {
   "cell_type": "markdown",
   "id": "40d763b4",
   "metadata": {},
   "source": [
    "### spin"
   ]
  },
  {
   "cell_type": "code",
   "execution_count": null,
   "id": "c64fdd2c",
   "metadata": {},
   "outputs": [],
   "source": [
    "n0     = 0;                 n1     = n_time0\n",
    "# n0     = 0;                 n1     = 13\n",
    "n0e    = n0 * data.n_dt;    n1e    = n1 * data.n_dt\n",
    "p_max  = p_max0+2;          p_min  = p_min0\n",
    "\n",
    "fig = plt.figure(figsize=(14, 11))\n",
    "if time_mode == 1:\n",
    "    ax1 = fig.add_subplot(3, 1, 1);  ax2 = fig.add_subplot(3, 1, 2);  ax3 = fig.add_subplot(3, 1, 3)\n",
    "    ax1.plot(num_1d[n0e:n1e],  np.ravel(E.E [n0:n1]),           '-y', linewidth=2.0, label=str_E)\n",
    "    ax1.plot(num_1d[n0e:n1e],  np.ravel(E.Eu[n0:n1])-100,       '-r', linewidth=0.4, label=str_Eu + ' -100')\n",
    "    ax1.plot(num_1d[n0e:n1e],  np.ravel(E.Ev[n0:n1])-200,       '-b', linewidth=0.4, label=str_Eu + ' -200')\n",
    "    ax2.plot(num_1d[n0e:n1e],  np.ravel(data.spinphase2[n0:n1]),'-k', linewidth=0.4, label=str_E)\n",
    "    ax2.plot(data.epoch[n0:n1],data.EFD_spinphase[n0:n1],       '.g', linewidth=1.0, label='EFD_spinphase')\n",
    "    ax3.plot(num_1d[n0e:n1e],  Epoch_E[n0e:n1e],                '-k', linewidth=2.0, label='Epoch')\n",
    "    ax3.set_xlabel(str_date)\n",
    "else:\n",
    "    ax1 = fig.add_subplot(2, 1, 1);  ax2 = fig.add_subplot(2, 1, 2)\n",
    "    ax1.plot(Epoch_E[n0e:n1e], np.ravel(E.E [n0:n1]),           '-y', linewidth=2.0, label=str_E)\n",
    "    ax1.plot(Epoch_E[n0e:n1e], np.ravel(E.Eu[n0:n1])-100,       '-r', linewidth=0.4, label=str_Eu + ' -100')\n",
    "    ax1.plot(Epoch_E[n0e:n1e], np.ravel(E.Ev[n0:n1])-200,       '-b', linewidth=0.4, label=str_Eu + ' -200')\n",
    "    ax2.plot(Epoch_E[n0e:n1e], np.ravel(data.spinphase2[n0:n1]),'-k', linewidth=0.4, label=str_E)\n",
    "    ax2.plot(data.epoch[n0:n1], data.EFD_spinphase[n0:n1],      '.g', linewidth=1.0, label='EFD_spinphase')\n",
    "    ax2.set_xlabel(str_date)\n",
    "ax1.set_ylabel(E.str_unit)\n",
    "#\n",
    "title_label = '[BepiColombo PWI EFD Potential]  ' + data_name;  ax1.set_title(title_label)\n",
    "ax1.legend(loc='upper right', fontsize=8)\n",
    "\n",
    "if time_mode == 1:\n",
    "    xlim=[num_1d[n0e], num_1d[n1e-1]]\n",
    "    ax1.set_xlim(xlim); ax2.set_xlim(xlim); ax3.set_xlim(xlim)\n",
    "else:\n",
    "    xlim=[Epoch_E[n0e], Epoch_E[n1e-1]]\n",
    "    E_min = '2025-08-01 02:14:13';  t_min = datetime.datetime.strptime(E_min, \"%Y-%m-%d %H:%M:%S\");  \n",
    "    E_max = '2025-08-01 02:14:20';  t_max = datetime.datetime.strptime(E_max, \"%Y-%m-%d %H:%M:%S\");  xlim=[t_min, t_max]\n",
    "    ax1.set_xlim(xlim); ax2.set_xlim(xlim)\n",
    "# ylim=[p_min, p_max];  ax1.set_ylim(ylim)\n",
    "ylim=[0, 360];  ax2.set_ylim(ylim)\n",
    "\n",
    "fig.subplots_adjust(hspace=0);  fig.show\n",
    "if dump_mode == 1:\n",
    "    png_fname = work_dir+data_name+'_spinphase.png'\n",
    "    fig.savefig(png_fname)"
   ]
  },
  {
   "cell_type": "code",
   "execution_count": null,
   "id": "de0c1652",
   "metadata": {},
   "outputs": [],
   "source": [
    "n0 = 0;     n1 = n_time0\n",
    "# n0 = 1000;   n1 = n0+100\n",
    "# n0 = -100;  n1 = -1\n",
    "n0e    = n0 * data.n_dt;    n1e    = n1 * data.n_dt\n",
    "\n",
    "fig = plt.figure(figsize=(14, 11))\n",
    "ax1 = fig.add_subplot(2, 1, 1); ax2 = fig.add_subplot(2, 1, 2)\n",
    "ax1.plot(data.epoch[n0:n1], data.EFD_spinrate [n0:n1],   '.g', linewidth=1.0, label='EFD_spinrate')\n",
    "ax2.plot(Epoch_E[n0e:n1e], np.ravel(data.spinphase2[n0:n1]),'-k', linewidth=0.4, label=str_E)\n",
    "ax2.plot(data.epoch[n0:n1], data.EFD_spinphase[n0:n1],      '.g', linewidth=1.0, label='EFD_spinphase')\n",
    "ax2.set_xlabel(str_date)\n",
    "#\n",
    "title_label = '[BepiColombo PWI EFD Spin]  ' + data_name;  ax1.set_title(title_label)\n",
    "ax1.legend(loc='upper right', fontsize=8)\n",
    "\n",
    "xlim=[data.epoch[n0], data.epoch[n1-1]]\n",
    "# E_min = '2025-08-01 01:46:00';  t_min = datetime.datetime.strptime(E_min, \"%Y-%m-%d %H:%M:%S\");  \n",
    "# E_max = '2025-08-01 01:48:00';  t_max = datetime.datetime.strptime(E_max, \"%Y-%m-%d %H:%M:%S\");  xlim=[t_min, t_max]\n",
    "ax1.set_xlim(xlim); ax2.set_xlim(xlim); print(xlim)\n",
    "ylim=[0, 360];  ax2.set_ylim(ylim)\n",
    "# ylim=[p_min, p_max];  ax1.set_ylim(ylim)\n",
    "\n",
    "fig.subplots_adjust(hspace=0);  fig.show()"
   ]
  }
 ],
 "metadata": {
  "kernelspec": {
   "display_name": "3.12",
   "language": "python",
   "name": "python3"
  },
  "language_info": {
   "codemirror_mode": {
    "name": "ipython",
    "version": 3
   },
   "file_extension": ".py",
   "mimetype": "text/x-python",
   "name": "python",
   "nbconvert_exporter": "python",
   "pygments_lexer": "ipython3",
   "version": "3.12.7"
  }
 },
 "nbformat": 4,
 "nbformat_minor": 5
}

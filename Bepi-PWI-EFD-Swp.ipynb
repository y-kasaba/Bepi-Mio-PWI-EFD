{
 "cells": [
  {
   "attachments": {},
   "cell_type": "markdown",
   "id": "a116756d",
   "metadata": {},
   "source": [
    "# BepiColombo PWI EFD Swp: L1a QL -- 2025/7/23"
   ]
  },
  {
   "cell_type": "code",
   "execution_count": null,
   "id": "bca50671",
   "metadata": {},
   "outputs": [],
   "source": [
    "import copy\n",
    "import datetime\n",
    "import matplotlib.colors as colors\n",
    "import matplotlib.pyplot as plt\n",
    "import numpy as np\n",
    "import os\n",
    "import sys\n",
    "from spacepy import pycdf"
   ]
  },
  {
   "cell_type": "code",
   "execution_count": null,
   "metadata": {},
   "outputs": [],
   "source": [
    "sys.path.append('./lib/')\n",
    "import Bepi_PWI_EFD_swp_data as bepi_data\n",
    "import Bepi_PWI_EFD_swp_lib  as bepi_swp\n",
    "# import Bepi_PWI_EFD_cal_lib  as bepi_cal"
   ]
  },
  {
   "cell_type": "markdown",
   "metadata": {},
   "source": [
    "# parameter set -- to be modified"
   ]
  },
  {
   "cell_type": "code",
   "execution_count": null,
   "id": "05e8da84",
   "metadata": {},
   "outputs": [],
   "source": [
    "# *** Dump ***\n",
    "dump_mode = 0                           # 0: no-dump  1:plot dump\n",
    "\n",
    "# *** CAL ***\n",
    "unit_mode = 2                           # [Power]     0: RAW    1: V    2: V/m\n",
    "band_mode = 0                           # [Power]     0: sum    1: /Hz\n",
    "\n",
    "# *** Unit ***\n",
    "time_mode = 1                           # [Time]      0: Epoch   1: data number\n",
    "gap_mode  = 0                           # [gap]       0: n/a     1: gap\n",
    "\n",
    "# *** Power range set ***\n",
    "p_raw_max = +10                         # background: 7.5   CAL: 10\n",
    "p_raw_min = -10                         # background: 2.5   CAL: 5\n",
    "\n",
    "# *** Directory set: set by User ***\n",
    "work_dir = '/Users/user/0-python/Bepi_python/ql/'   # Plot dump folder"
   ]
  },
  {
   "attachments": {},
   "cell_type": "markdown",
   "id": "093823c4",
   "metadata": {},
   "source": [
    "# get CDF data"
   ]
  },
  {
   "cell_type": "code",
   "execution_count": null,
   "id": "a619adb8",
   "metadata": {},
   "outputs": [],
   "source": [
    "mode_cdf = 1        # 0:flight  1:test\n",
    "date = '0'          # from Data list in Bepi_PWI_EFD_sec_data.py\n",
    "# TEST\n",
    "date = '2025060?'\n",
    "# date = '20250605'\n",
    "# date = '20250606'\n",
    "# date = '20250625'\n",
    "\n",
    "# Flight -- only 'l'\n",
    "# date='20250410'\n",
    "# date='20240409'\n",
    "# date='20231106'\n",
    "# date='20231026'\n",
    "# date='20230522'\n",
    "# date='20221107'\n",
    "# date='20220517'\n",
    "# date='20220311'\n",
    "# date='20211124'\n",
    "# date='20210617'\n",
    "# date='20201217'\n",
    "# date='20200304'\n",
    "# date='20191210'\n",
    "# date='2019080?'     # 20190805-7:   WPT latch release\n",
    "# date='20190807'\n",
    "# date='20190805'   \n",
    "# date='20190802'\n",
    "# date='20190630'\n",
    "\n",
    "data_dir, data_list = bepi_data.datalist(date, mode_cdf)       # [date]   yyyymmdd: group read    others: file list"
   ]
  },
  {
   "cell_type": "code",
   "execution_count": null,
   "id": "fdca912c",
   "metadata": {},
   "outputs": [],
   "source": [
    "class struct:\n",
    "    pass\n",
    "data = struct()\n",
    "num_list = len(data_list)\n",
    "for i in range(num_list):\n",
    "    data_name = data_list[i];   cdf_file = data_dir + data_name\n",
    "    cdf = pycdf.CDF(cdf_file);  data1 = bepi_swp.efd_swp_read(cdf)\n",
    "    if i==0: data = data1;                               \n",
    "    else:    data = bepi_swp.efd_swp_add(data, data1)\n",
    "    print(i, data.Vu1.shape, cdf_file)\n",
    "data_name = os.path.split(data_name)[1];            print(\"data name:\", data_name)"
   ]
  },
  {
   "cell_type": "code",
   "execution_count": null,
   "id": "4c28c688",
   "metadata": {},
   "outputs": [],
   "source": [
    "data = bepi_swp.efd_swp_shaping(data)"
   ]
  },
  {
   "cell_type": "code",
   "execution_count": null,
   "id": "f46357e4",
   "metadata": {},
   "outputs": [],
   "source": [
    "print(\"    data.Vu1(,dt)[V]:\", data.Vu1.shape,             data.Vu1[0][0],                data.Vu1[-1][-1])\n",
    "print(\"    data.Vu2(,dt)[V]:\", data.Vu2.shape,             data.Vu2[0][0],                data.Vu2[-1][-1])\n",
    "print(\"    data.Vv1(,dt)[V]:\", data.Vv1.shape,             data.Vv1[0][0],                data.Vv1[-1][-1])\n",
    "print(\"    data.Vv2(,dt)[V]:\", data.Vv2.shape,             data.Vv2[0][0],                data.Vv2[-1][-1])\n",
    "print(\"  data.WPT_Sweep_Tbl:\", data.WPT_Sweep_Tbl.shape,   \"\\t\", data.WPT_Sweep_Tbl[0],   data.WPT_Sweep_Tbl[-1])\n",
    "print(\" data.EFD_saturation:\", data.EFD_saturation.shape,  \"\\t\", data.EFD_saturation[0],  data.EFD_saturation[-1])\n",
    "print(\"   data.EFD_spinrate:\", data.EFD_spinrate.shape,    \"\\t\", data.EFD_spinrate[0],    data.EFD_spinrate[-1])\n",
    "print(\"data.SunPulseCounter:\", data.SunPulseCounter.shape, \"\\t\", data.SunPulseCounter[0], data.SunPulseCounter[-1])\n",
    "print(\"          data.epoch:\", data.epoch.shape,           \"\\t\", data.epoch[0],           data.epoch[-1])\n",
    "print(\"         data.EFD_TI:\", data.EFD_TI.shape,          \"\\t\", '{:X}'.format(data.EFD_TI[0]), '{:X}'.format(data.EFD_TI[-1]))"
   ]
  },
  {
   "cell_type": "code",
   "execution_count": null,
   "id": "67562b9b",
   "metadata": {},
   "outputs": [],
   "source": [
    "date1 = data.epoch[0];  date1 = date1.strftime('%Y/%m/%d %R:%S')\n",
    "date2 = data.epoch[-1]; date2 = date2.strftime('%Y/%m/%d %R:%S')\n",
    "str_date = date1 + \"  -  \" + date2\n",
    "n_time0 = data.n_time\n",
    "\n",
    "if data.n_time>1: \n",
    "    print(\"    Epoch:\", str_date, \"(interval:\", data.epoch[1] - data.epoch[0], \")\")\n",
    "else:\n",
    "    print(\"    Epoch:\", str_date)\n",
    "print(\"  Samples:\", n_time0)"
   ]
  },
  {
   "cell_type": "code",
   "execution_count": null,
   "id": "9f7b4444",
   "metadata": {},
   "outputs": [],
   "source": [
    "swp = copy.deepcopy(data)"
   ]
  },
  {
   "cell_type": "markdown",
   "id": "8b99cd2f",
   "metadata": {},
   "source": [
    "### M data -- time resolution up"
   ]
  },
  {
   "cell_type": "code",
   "execution_count": null,
   "id": "94ac8133",
   "metadata": {},
   "outputs": [],
   "source": [
    "from datetime import timedelta\n",
    "Epoch_1d = swp.epoch.tolist();   Epoch_swp = []\n",
    "if (data.n_dt > 1):\n",
    "    for i in range(data.n_dt):\n",
    "        Epoch_swp += Epoch_1d\n",
    "    for i in range(n_time0):\n",
    "        for j in range(data.n_dt):\n",
    "            Epoch_swp[i*data.n_dt + j] = Epoch_1d[i] + timedelta(seconds = j/data.n_dt)\n",
    "else:\n",
    "    Epoch_swp += Epoch_1d\n",
    "n_time1 = n_time0 * data.n_dt; num_1d = np.arange(n_time1)"
   ]
  },
  {
   "cell_type": "code",
   "execution_count": null,
   "id": "e666a41f",
   "metadata": {},
   "outputs": [],
   "source": [
    "# sweep = bepi_cal.pot_cal(pot)     # CAL\n",
    "swp.cf       = 0.0\n",
    "swp.str_unit = \"V\""
   ]
  },
  {
   "cell_type": "markdown",
   "id": "3cf817ff",
   "metadata": {},
   "source": [
    "### Peak"
   ]
  },
  {
   "cell_type": "code",
   "execution_count": null,
   "id": "0dea2d82",
   "metadata": {},
   "outputs": [],
   "source": [
    "bepi_swp.swp_peak(swp, n_time0)"
   ]
  },
  {
   "cell_type": "code",
   "execution_count": null,
   "id": "abd06726",
   "metadata": {},
   "outputs": [],
   "source": [
    "p_max0 = p_raw_max + swp.cf/10;  p_min0 = p_raw_min + swp.cf/10\n",
    "p_max0  = np.ceil( np.nanmax( [np.nanmax(swp.Vu1), np.nanmax(swp.Vu2), np.nanmax(swp.Vv1), np.nanmax(swp.Vv2)] )*5)/5 + 1\n",
    "p_min0  = np.ceil( np.nanmin( [np.nanmax(swp.Vu1), np.nanmax(swp.Vu2), np.nanmax(swp.Vv1), np.nanmax(swp.Vv2)] )*5)/5 - 1\n",
    "print(\"conversion factor:\", '{:.1f}'.format(swp.cf), \"    MAX-min:\", '{:.1f}'.format(p_max0), '{:.1f}'.format(p_min0), \"   str_unit:\", swp.str_unit)"
   ]
  },
  {
   "cell_type": "code",
   "execution_count": null,
   "id": "9b10ca79",
   "metadata": {},
   "outputs": [],
   "source": [
    "str_Vu1 = 'Vu1 (SWP)';   str_Vu2 = 'Vu2 (SWP)';   str_Vv1 = 'Vv1 (SWP)';   str_Vv2 = 'Vv2 (SWP)'"
   ]
  },
  {
   "cell_type": "markdown",
   "id": "6cc526e7",
   "metadata": {},
   "source": [
    "# RAW"
   ]
  },
  {
   "cell_type": "code",
   "execution_count": null,
   "id": "2ef60e31",
   "metadata": {},
   "outputs": [],
   "source": [
    "n0 = 0;             n1    = n_time0\n",
    "# n0 = n_time0//10;   n1    = n_time0//6\n",
    "p_max  = p_max0+2;  p_min = p_min0\n",
    "\n",
    "fig = plt.figure(figsize=(14, 11))\n",
    "ax1 = fig.add_subplot(4, 1, 1);  ax2 = fig.add_subplot(4, 1, 2);  ax3 = fig.add_subplot(4, 1, 3);  ax4 = fig.add_subplot(4, 1, 4)\n",
    "ax1.plot(np.ravel(swp.Vu1[n0:n1])+3,               '-r', linewidth=1.0, label=str_Vu1 + ' +3')\n",
    "ax1.plot(np.ravel(swp.Vu2[n0:n1])+2,               ':r', linewidth=0.4, label=str_Vu2 + ' +2')\n",
    "ax1.plot(np.ravel(swp.Vv1[n0:n1])+1,               '-b', linewidth=1.0, label=str_Vu1 + ' +1')\n",
    "ax1.plot(np.ravel(swp.Vv2[n0:n1]),                 ':b', linewidth=0.4, label=str_Vu2 )\n",
    "#\n",
    "ax2.plot(np.ravel(data.sweep_ant[n0:n1])+2,        '_r', linewidth=3.0, label='Sweep Ant')\n",
    "ax2.plot(np.ravel(data.EFD_saturation[n0:n1]),     '_k', linewidth=3.0, label='EFD_saturation')    # ???\n",
    "#\n",
    "ax3.plot(np.ravel(data.EFD_spinrate[n0:n1]),       '_g', linewidth=1.0, label='EFD_spinrate')\n",
    "#\n",
    "ax4.plot(np.ravel(data.epoch[n0:n1]),              '_k', markersize=8)\n",
    "\n",
    "ax1.set_ylabel(swp.str_unit);  ax4.set_xlabel(str_date)\n",
    "#\n",
    "title_label = '[BepiColombo PWI EFD Potential]  ' + data_name;  ax1.set_title(title_label)\n",
    "ax1.legend(loc='upper right', fontsize=8);  ax2.legend(loc='upper right', fontsize=8);  ax3.legend(loc='upper right', fontsize=8)\n",
    "\n",
    "xlim=[-.5, len(np.ravel(data.Vu1[n0:n1])) -.5];    print(xlim); ax1.set_xlim(xlim)\n",
    "xlim=[-.5, len(np.ravel(data.epoch[n0:n1]))-.5];   print(xlim); ax2.set_xlim(xlim); ax3.set_xlim(xlim); ax4.set_xlim(xlim)\n",
    "# ylim=[10**p_min, 10**p_max];                    ax1.set_ylim(ylim)\n",
    "\n",
    "fig.subplots_adjust(hspace=0);  fig.show\n",
    "if dump_mode == 1:\n",
    "    png_fname = work_dir+data_name+'_raw.png'\n",
    "    fig.savefig(png_fname)"
   ]
  },
  {
   "cell_type": "markdown",
   "id": "22adb184",
   "metadata": {},
   "source": [
    "# SWEEP"
   ]
  },
  {
   "cell_type": "code",
   "execution_count": null,
   "id": "736696bd",
   "metadata": {},
   "outputs": [],
   "source": [
    "n0     = 0;                 n1     = n_time0\n",
    "# n0     = n_time0//10;       n1     = n_time0//6\n",
    "n0e    = n0 * data.n_dt;    n1e    = n1 * data.n_dt\n",
    "p_max  = p_max0+2;          p_min  = p_min0\n",
    "\n",
    "fig = plt.figure(figsize=(14, 11))\n",
    "if time_mode == 1:\n",
    "    ax1 = fig.add_subplot(2, 1, 1); ax2 = fig.add_subplot(2, 1, 2)\n",
    "    ax1.plot(num_1d[n0e:n1e], np.ravel(swp.Vu1[n0:n1])+3,  '-r', linewidth=1.0, label=str_Vu1 + ' +3')\n",
    "    ax1.plot(num_1d[n0e:n1e], np.ravel(swp.Vu2[n0:n1])+2,  ':r', linewidth=0.4, label=str_Vu2 + ' +2')\n",
    "    ax1.plot(num_1d[n0e:n1e], np.ravel(swp.Vv1[n0:n1])+1,  '-b', linewidth=1.0, label=str_Vv1 + ' +1')\n",
    "    ax1.plot(num_1d[n0e:n1e], np.ravel(swp.Vv2[n0:n1]),    ':b', linewidth=0.4, label=str_Vv2)\n",
    "    ax2.plot(num_1d[n0e:n1e], Epoch_swp[n0e:n1e],   '-k', linewidth=2.0, label='Epoch')\n",
    "    ax2.set_xlabel(str_date)\n",
    "else:\n",
    "    ax1 = fig.add_subplot(1, 1, 1)\n",
    "    ax1.plot(Epoch_swp[n0e:n1e], np.ravel(swp.Vu1[n0:n1])+3,               '-r', linewidth=0.4, label=str_Vu1 + ' +3')\n",
    "    ax1.plot(Epoch_swp[n0e:n1e], np.ravel(swp.Vu2[n0:n1])+2,               ':r', linewidth=0.4, label=str_Vu2 + ' +2')\n",
    "    ax1.plot(Epoch_swp[n0e:n1e], np.ravel(swp.Vv1[n0:n1])+1,               '-b', linewidth=0.4, label=str_Vu1 + ' +1')\n",
    "    ax1.plot(Epoch_swp[n0e:n1e], np.ravel(swp.Vv2[n0:n1]),                 ':b', linewidth=0.4, label=str_Vu2)\n",
    "    ax1.set_xlabel(str_date)\n",
    "ax1.set_ylabel(swp.str_unit)\n",
    "#\n",
    "title_label = '[BepiColombo PWI EFD Potential]  ' + data_name;  ax1.set_title(title_label)\n",
    "ax1.legend(loc='upper right', fontsize=8)\n",
    "\n",
    "if time_mode == 1:\n",
    "    xlim=[num_1d[n0e], num_1d[n1e-1]]\n",
    "    ax1.set_xlim(xlim); ax2.set_xlim(xlim)\n",
    "else:\n",
    "    xlim=[Epoch_swp[n0e], Epoch_swp[n1e-1]]\n",
    "    #E_min = '2024-08-21 04:00:00';  t_min = datetime.datetime.strptime(E_min, \"%Y-%m-%d %H:%M:%S\");  \n",
    "    #E_max = '2024-08-21 19:00:00';  t_max = datetime.datetime.strptime(E_max, \"%Y-%m-%d %H:%M:%S\");  xlim=[t_min, t_max]\n",
    "    ax1.set_xlim(xlim)\n",
    "# ylim=[p_min, p_max];  ax1.set_ylim(ylim)\n",
    "\n",
    "fig.subplots_adjust(hspace=0);  fig.show\n",
    "if dump_mode == 1:\n",
    "    png_fname = work_dir+data_name+'_V.png'\n",
    "    fig.savefig(png_fname)"
   ]
  }
 ],
 "metadata": {
  "kernelspec": {
   "display_name": "3.12",
   "language": "python",
   "name": "python3"
  },
  "language_info": {
   "codemirror_mode": {
    "name": "ipython",
    "version": 3
   },
   "file_extension": ".py",
   "mimetype": "text/x-python",
   "name": "python",
   "nbconvert_exporter": "python",
   "pygments_lexer": "ipython3",
   "version": "3.12.7"
  }
 },
 "nbformat": 4,
 "nbformat_minor": 5
}

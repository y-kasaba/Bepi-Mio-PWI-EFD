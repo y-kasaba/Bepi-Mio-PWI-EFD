{
 "cells": [
  {
   "attachments": {},
   "cell_type": "markdown",
   "id": "a116756d",
   "metadata": {},
   "source": [
    "# BepiColombo PWI EFD Pot: L1a QL -- 2025/7/24"
   ]
  },
  {
   "cell_type": "code",
   "execution_count": null,
   "id": "bca50671",
   "metadata": {},
   "outputs": [],
   "source": [
    "import copy\n",
    "import datetime\n",
    "import matplotlib.colors as colors\n",
    "import matplotlib.pyplot as plt\n",
    "import numpy as np\n",
    "import os\n",
    "import sys\n",
    "from spacepy import pycdf"
   ]
  },
  {
   "cell_type": "code",
   "execution_count": null,
   "metadata": {},
   "outputs": [],
   "source": [
    "sys.path.append('./lib/')\n",
    "import Bepi_PWI_EFD_pot_data as bepi_data\n",
    "import Bepi_PWI_EFD_pot_lib  as bepi_pot\n",
    "# import Bepi_PWI_EFD_cal_lib  as bepi_cal"
   ]
  },
  {
   "cell_type": "markdown",
   "metadata": {},
   "source": [
    "# parameter set -- to be modified"
   ]
  },
  {
   "cell_type": "code",
   "execution_count": null,
   "id": "05e8da84",
   "metadata": {},
   "outputs": [],
   "source": [
    "# *** Dump ***\n",
    "dump_mode = 1                           # 0: no-dump  1:plot dump\n",
    "\n",
    "# *** CAL ***\n",
    "unit_mode = 2                           # [Power]     0: RAW    1: V    2: V/m\n",
    "band_mode = 0                           # [Power]     0: sum    1: /Hz\n",
    "cal_mode  = 2                           # [Power]     0: background     1: CAL     2: all\n",
    "\n",
    "# *** Unit ***\n",
    "time_mode = 0                           # [Time]      0: Epoch   1: data number\n",
    "gap_mode  = 1                           # [gap]       0: n/a     1: gap\n",
    "\n",
    "# *** Power range set ***\n",
    "p_raw_max = +10                         # background: 7.5   CAL: 10\n",
    "p_raw_min = -10                         # background: 2.5   CAL: 5\n",
    "\n",
    "# *** Directory set: set by User ***\n",
    "work_dir = '/Users/user/0-python/Bepi_python/ql/'   # Plot dump folder"
   ]
  },
  {
   "attachments": {},
   "cell_type": "markdown",
   "id": "093823c4",
   "metadata": {},
   "source": [
    "# get CDF data"
   ]
  },
  {
   "cell_type": "code",
   "execution_count": null,
   "id": "a619adb8",
   "metadata": {},
   "outputs": [],
   "source": [
    "mode_cdf = 0        # 0:flight  1:test\n",
    "tlm_mode = 'l'      # l, m, h\n",
    "ant_mode = 0        # 0:both    1:U(WPT)    2:V(MEF)\n",
    "\n",
    "date = '0'          # from Data list in Bepi_PWI_EFD_sec_data.py\n",
    "# TEST\n",
    "# date = '2025060?'\n",
    "# date = '20250605'\n",
    "# date = '20250606'\n",
    "# date = '20250625'\n",
    "\n",
    "# Flight -- only 'l'\n",
    "# date='201811[0-1][9,0]'\n",
    "# date='20181109'\n",
    "# date='20181110'\n",
    "# date='20181111'\n",
    "# date='20190515'\n",
    "# date='20190630'\n",
    "# date='20190701'\n",
    "date='20190802'\n",
    "# date='2019080?'       # 20190805-7:   WPT latch release\n",
    "# date='20190805'       # 20190805-7:   WPT latch release\n",
    "# date='20190806'\n",
    "# date='20190807'\n",
    "# date='20200304'\n",
    "# date='20201217'\n",
    "# date='20210617'\n",
    "# date='20211124'\n",
    "# date='20220311'\n",
    "# date='20220517'\n",
    "# date='20221107'\n",
    "# date='20230228'\n",
    "# date='20230522'\n",
    "# date='20230730'\n",
    "# date='20231026'\n",
    "# date='20231106'\n",
    "# date='20240409'\n",
    "\n",
    "data_dir, data_list = bepi_data.datalist(date, tlm_mode, mode_cdf)       # [date]   yyyymmdd: group read    others: file list"
   ]
  },
  {
   "cell_type": "code",
   "execution_count": null,
   "id": "fdca912c",
   "metadata": {},
   "outputs": [],
   "source": [
    "class struct:\n",
    "    pass\n",
    "data = struct()\n",
    "num_list = len(data_list)\n",
    "for i in range(num_list):\n",
    "    data_name = data_list[i];  cdf_file = data_dir + data_name\n",
    "    cdf = pycdf.CDF(cdf_file);    data1 = bepi_pot.efd_pot_read(cdf, tlm_mode)\n",
    "    if i==0: data = data1;                               \n",
    "    else:    data = bepi_pot.efd_pot_add(data, data1, tlm_mode)\n",
    "    print(i, data.Vu1.shape, cdf_file)\n",
    "data_name = os.path.split(data_name)[1];            print(\"data name:\", data_name)"
   ]
  },
  {
   "cell_type": "code",
   "execution_count": null,
   "id": "4c28c688",
   "metadata": {},
   "outputs": [],
   "source": [
    "data = bepi_pot.efd_pot_shaping(data, cal_mode, tlm_mode, ant_mode)"
   ]
  },
  {
   "cell_type": "code",
   "execution_count": null,
   "id": "f46357e4",
   "metadata": {},
   "outputs": [],
   "source": [
    "if tlm_mode=='l':\n",
    "    print(\"         data.Vu1[V]:\", data.Vu1.shape,             data.Vu1[0],             data.Vu1[-1])\n",
    "    print(\"         data.Vu2[V]:\", data.Vu2.shape,             data.Vu2[0],             data.Vu2[-1])\n",
    "    print(\"         data.Vv1[V]:\", data.Vv1.shape,             data.Vv1[0],             data.Vv1[-1])\n",
    "    print(\"         data.Vv2[V]:\", data.Vv2.shape,             data.Vv2[0],             data.Vv2[-1])\n",
    "else:\n",
    "    print(\"    data.Vu1(,dt)[V]:\", data.Vu1.shape,             data.Vu1[0][0],          data.Vu1[-1][-1])\n",
    "    print(\"    data.Vu2(,dt)[V]:\", data.Vu2.shape,             data.Vu2[0][0],          data.Vu2[-1][-1])\n",
    "    print(\"    data.Vv1(,dt)[V]:\", data.Vv1.shape,             data.Vv1[0][0],          data.Vv1[-1][-1])\n",
    "    print(\"    data.Vv2(,dt)[V]:\", data.Vv2.shape,             data.Vv2[0][0],          data.Vv2[-1][-1])\n",
    "if tlm_mode!='h':\n",
    "    print(\"    data.BIAS_LVL_U1:\", data.BIAS_LVL_U1.shape,   \"\\t\", data.BIAS_LVL_U1[0],     data.BIAS_LVL_U1[-1])\n",
    "    print(\"    data.BIAS_LVL_U2:\", data.BIAS_LVL_U2.shape,   \"\\t\", data.BIAS_LVL_U2[0],     data.BIAS_LVL_U2[-1])\n",
    "    print(\"    data.BIAS_LVL_V1:\", data.BIAS_LVL_V1.shape,   \"\\t\", data.BIAS_LVL_V1[0],     data.BIAS_LVL_V1[-1])\n",
    "    print(\"    data.BIAS_LVL_V2:\", data.BIAS_LVL_V2.shape,   \"\\t\", data.BIAS_LVL_V2[0],     data.BIAS_LVL_V2[-1])\n",
    "    print(\"    data.EFD_Vu1_ENA:\", data.EFD_Vu1_ENA.shape,   \"\\t\", data.EFD_Vu1_ENA[0],     data.EFD_Vu1_ENA[-1])\n",
    "    print(\"    data.EFD_Vu2_ENA:\", data.EFD_Vu2_ENA.shape,   \"\\t\", data.EFD_Vu2_ENA[0],     data.EFD_Vu2_ENA[-1])\n",
    "    print(\"    data.EFD_Vv1_ENA:\", data.EFD_Vv1_ENA.shape,   \"\\t\", data.EFD_Vv1_ENA[0],     data.EFD_Vv1_ENA[-1])\n",
    "    print(\"    data.EFD_Vv2_ENA:\", data.EFD_Vv2_ENA.shape,   \"\\t\", data.EFD_Vv2_ENA[0],     data.EFD_Vv2_ENA[-1])\n",
    "    print(\"      data.EFD_Hdump:\", data.EFD_Hdump.shape,     \"\\t\", data.EFD_Hdump[0],       data.EFD_Hdump[-1])\n",
    "    print(\"      data.EFD_sweep:\", data.EFD_sweep.shape,     \"\\t\", data.EFD_sweep[0],       data.EFD_sweep[-1])\n",
    "    print(\"      data.PRE_U_PWR:\", data.PRE_U_PWR.shape,     \"\\t\", data.PRE_U_PWR[0],       data.PRE_U_PWR[-1])\n",
    "    print(\"      data.PRE_V_PWR:\", data.PRE_V_PWR.shape,     \"\\t\", data.PRE_V_PWR[0],       data.PRE_V_PWR[-1])\n",
    "    print(\"      data.PRE_U_CAL:\", data.PRE_U_CAL.shape,     \"\\t\", data.PRE_U_CAL[0],       data.PRE_U_CAL[-1])\n",
    "    print(\"      data.PRE_V_CAL:\", data.PRE_V_CAL.shape,     \"\\t\", data.PRE_V_CAL[0],       data.PRE_V_CAL[-1])\n",
    "    print(\"     data.PRE_U_LOOP:\", data.PRE_U_LOOP.shape,    \"\\t\", data.PRE_U_LOOP[0],      data.PRE_U_LOOP[-1])\n",
    "    print(\"       data.AM2P_ENA:\", data.AM2P_ENA.shape,      \"\\t\", data.AM2P_ENA[0],        data.AM2P_ENA[-1])\n",
    "print(    \" data.EFD_saturation:\", data.EFD_saturation.shape,\"\\t\", data.EFD_saturation[0],  data.EFD_saturation[-1])\n",
    "print(    \"   data.EFD_spinrate:\", data.EFD_spinrate.shape,  \"\\t\", data.EFD_spinrate[0],    data.EFD_spinrate[-1])\n",
    "print(    \"  data.EFD_spinphase:\", data.EFD_spinphase.shape, \"\\t\", data.EFD_spinphase[0],   data.EFD_spinphase[-1])\n",
    "print(    \"          data.epoch:\", data.epoch.shape,         \"\\t\", data.epoch[0],           data.epoch[-1])\n",
    "print(    \"         data.EFD_TI:\", data.EFD_TI.shape,        \"\\t\", '{:X}'.format(data.EFD_TI[0]), '{:X}'.format(data.EFD_TI[-1]))"
   ]
  },
  {
   "cell_type": "code",
   "execution_count": null,
   "id": "67562b9b",
   "metadata": {},
   "outputs": [],
   "source": [
    "date1 = data.epoch[0];  date1 = date1.strftime('%Y/%m/%d %R:%S')\n",
    "date2 = data.epoch[-1]; date2 = date2.strftime('%Y/%m/%d %R:%S')\n",
    "str_date = date1 + \"  -  \" + date2\n",
    "n_time0 = data.n_time\n",
    "\n",
    "if data.n_time>1: \n",
    "    print(\"    Epoch:\", str_date, \"(interval:\", data.epoch[1] - data.epoch[0], \")\")\n",
    "else:\n",
    "    print(\"    Epoch:\", str_date)\n",
    "print(\"  Samples:\", n_time0)"
   ]
  },
  {
   "cell_type": "code",
   "execution_count": null,
   "id": "9f7b4444",
   "metadata": {},
   "outputs": [],
   "source": [
    "pot = copy.deepcopy(data)"
   ]
  },
  {
   "cell_type": "markdown",
   "id": "8b99cd2f",
   "metadata": {},
   "source": [
    "### M data -- time resolution up"
   ]
  },
  {
   "cell_type": "code",
   "execution_count": null,
   "id": "94ac8133",
   "metadata": {},
   "outputs": [],
   "source": [
    "from datetime import timedelta\n",
    "Epoch_1d = pot.epoch.tolist();   Epoch_pot = []\n",
    "if (data.n_dt > 1):\n",
    "    for i in range(data.n_dt):\n",
    "        Epoch_pot += Epoch_1d\n",
    "    for i in range(n_time0):\n",
    "        for j in range(data.n_dt):\n",
    "            Epoch_pot[i*data.n_dt + j] = Epoch_1d[i] + timedelta(seconds = j/data.n_dt)\n",
    "else:\n",
    "    Epoch_pot += Epoch_1d\n",
    "n_time1 = n_time0 * data.n_dt; num_1d = np.arange(n_time1)"
   ]
  },
  {
   "cell_type": "code",
   "execution_count": null,
   "id": "e666a41f",
   "metadata": {},
   "outputs": [],
   "source": [
    "# pot = bepi_cal.pot_cal(pot)     # CAL\n",
    "pot.cf       = 0.0\n",
    "pot.str_unit = \"V\""
   ]
  },
  {
   "cell_type": "markdown",
   "id": "3cf817ff",
   "metadata": {},
   "source": [
    "### Peak"
   ]
  },
  {
   "cell_type": "code",
   "execution_count": null,
   "id": "0dea2d82",
   "metadata": {},
   "outputs": [],
   "source": [
    "bepi_pot.pot_peak(pot, n_time0)"
   ]
  },
  {
   "cell_type": "code",
   "execution_count": null,
   "id": "abd06726",
   "metadata": {},
   "outputs": [],
   "source": [
    "p_max0 = p_raw_max + pot.cf/10;  p_min0 = p_raw_min + pot.cf/10\n",
    "p_max0  = np.ceil( np.nanmax( [np.nanmax(pot.Vu1), np.nanmax(pot.Vu2), np.nanmax(pot.Vv1), np.nanmax(pot.Vv2)] )*5)/5 + 1\n",
    "p_min0  = np.ceil( np.nanmin( [np.nanmin(pot.Vu1), np.nanmin(pot.Vu2), np.nanmin(pot.Vv1), np.nanmin(pot.Vv2)] )*5)/5 - 1\n",
    "print(\"conversion factor:\", '{:.1f}'.format(pot.cf), \"    MAX-min:\", '{:.1f}'.format(p_max0), '{:.1f}'.format(p_min0), \"   str_unit:\", pot.str_unit)"
   ]
  },
  {
   "cell_type": "code",
   "execution_count": null,
   "id": "9b10ca79",
   "metadata": {},
   "outputs": [],
   "source": [
    "if   tlm_mode=='l':     # L\n",
    "    str_Vu1 = 'Vu1_1Hz (L)';    str_Vu2 = 'Vu2_1Hz (L)';    str_Vv1 = 'Vv1_1Hz (L)';    str_Vv2 = 'Vv2_1Hz (L)';    str_V = 'V_1Hz (L)'\n",
    "elif tlm_mode=='m':     # M\n",
    "    str_Vu1 = 'Vu1_8Hz (M)';    str_Vu2 = 'Vu2_8Hz (M)';    str_Vv1 = 'Vv1_8Hz (M)';    str_Vv2 = 'Vv2_8Hz (M)';    str_V = 'V_8Hz (M)'\n",
    "else:                   # H\n",
    "    str_Vu1 = 'Vu1_32Hz (H)';   str_Vu2 = 'Vu2_32Hz (H)';   str_Vv1 = 'Vv1_32Hz (H)';   str_Vv2 = 'Vv2_32Hz (H)';   str_V = 'V_32Hz (H)'\n"
   ]
  },
  {
   "cell_type": "code",
   "execution_count": null,
   "id": "1f4293b7",
   "metadata": {},
   "outputs": [],
   "source": [
    "# NAN\n",
    "if gap_mode == 1 and time_mode == 0:\n",
    "    for i in range(n_time0-1):\n",
    "        dt = pot.epoch[i+1] - pot.epoch[i]\n",
    "        if dt.total_seconds() > 60:  bepi_pot.pot_nan(pot, i)\n",
    "pot.V = (pot.Vu1 + pot.Vu2 + pot.Vv1 + pot.Vv2)/4"
   ]
  },
  {
   "cell_type": "markdown",
   "id": "6cc526e7",
   "metadata": {},
   "source": [
    "# RAW plot"
   ]
  },
  {
   "cell_type": "code",
   "execution_count": null,
   "id": "2ef60e31",
   "metadata": {},
   "outputs": [],
   "source": [
    "n0 = 0;             n1    = n_time0\n",
    "# n0 = n_time0//10;   n1    = n_time0//6\n",
    "p_max  = p_max0+2;  p_min = p_min0\n",
    "\n",
    "fig = plt.figure(figsize=(14, 11))\n",
    "ax1 = fig.add_subplot(4, 1, 1);  ax2 = fig.add_subplot(4, 1, 2);  ax3 = fig.add_subplot(4, 1, 3);  ax4 = fig.add_subplot(4, 1, 4)\n",
    "ax1.plot(np.ravel(pot.V[n0:n1]),                   '-y', linewidth=2.0, label=str_V)\n",
    "ax1.plot(np.ravel(pot.Vu1[n0:n1])+4,               '-r', linewidth=1.0, label=str_Vu1 + ' +4')\n",
    "ax1.plot(np.ravel(pot.Vu2[n0:n1])+3,               ':r', linewidth=0.4, label=str_Vu2 + ' +3')\n",
    "ax1.plot(np.ravel(pot.Vv1[n0:n1])+2,               '-b', linewidth=1.0, label=str_Vv1 + ' +2')\n",
    "ax1.plot(np.ravel(pot.Vv2[n0:n1])+1,               ':b', linewidth=0.4, label=str_Vv2 + ' +1')\n",
    "#\n",
    "if tlm_mode!='h':\n",
    "    ax2.plot(np.ravel(data.EFD_Vu1_ENA[n0:n1])+24, '-r', linewidth=3.0, label='EFD_Vu1_ENA')       # ???\n",
    "    ax2.plot(np.ravel(data.EFD_Vu2_ENA[n0:n1])+22, ':r', linewidth=3.0, label='EFD_Vu2_ENA')       # ???\n",
    "    ax2.plot(np.ravel(data.EFD_Vv1_ENA[n0:n1])+20, '-b', linewidth=3.0, label='EFD_Vv1_ENA')       # ???\n",
    "    ax2.plot(np.ravel(data.EFD_Vv2_ENA[n0:n1])+18, ':b', linewidth=3.0, label='EFD_Vv2_ENA')       # ???\n",
    "    ax2.plot(np.ravel(data.EFD_Hdump[n0:n1])  +16, '-g', linewidth=1.0, label='EFD_Hdump')         # ???\n",
    "    ax2.plot(np.ravel(data.EFD_sweep[n0:n1])  +14, '-c', linewidth=1.0, label='EFD_sweep')\n",
    "    ax2.plot(np.ravel(data.PRE_U_PWR[n0:n1])  +12, '-r', linewidth=3.0, label='PRE_U_PWR')         # ???\n",
    "    ax2.plot(np.ravel(data.PRE_V_PWR[n0:n1])  +10, '-b', linewidth=1.0, label='PRE_V_PWR')\n",
    "    ax2.plot(np.ravel(data.PRE_U_CAL[n0:n1])   +8, ':r', linewidth=1.0, label='PRE_U_CAL')\n",
    "    ax2.plot(np.ravel(data.PRE_V_CAL[n0:n1])   +6, ':b', linewidth=1.0, label='PRE_V_CAL')\n",
    "    ax2.plot(np.ravel(data.AM2P_ENA[n0:n1])    +4, ':k', linewidth=1.0, label='AM2P_ENA')\n",
    "    ax2.plot(np.ravel(data.PRE_U_LOOP[n0:n1])  +2, ':r', linewidth=3.0, label='PRE_U_LOOP')        # ???\n",
    "ax2.plot(np.ravel(data.EFD_saturation[n0:n1]),     '-k', linewidth=3.0, label='EFD_saturation')    # ???\n",
    "#\n",
    "if tlm_mode!='h':\n",
    "    ax3.plot(np.ravel(data.BIAS_LVL_U1[n0:n1]),    '-r', linewidth=0.4, label='BIAS_LVL_U1')    # ???\n",
    "    ax3.plot(np.ravel(data.BIAS_LVL_U2[n0:n1]),    ':r', linewidth=0.4, label='BIAS_LVL_U2')    # ???\n",
    "    ax3.plot(np.ravel(data.BIAS_LVL_V1[n0:n1]),    '-b', linewidth=0.4, label='BIAS_LVL_V1')    # ???\n",
    "    ax3.plot(np.ravel(data.BIAS_LVL_V2[n0:n1]),    ':b', linewidth=0.4, label='BIAS_LVL_V2')       # ???\n",
    "# ax3.plot(np.ravel(data.EFD_spinrate[n0:n1]),       '-g', linewidth=1.0, label='EFD_spinrate')\n",
    "# ax4.plot(np.ravel(data.EFD_spinphase[n0:n1]),    '-r', linewidth=1.0, label='EFD_spinphase')\n",
    "#\n",
    "ax4.plot(np.ravel(data.epoch[n0:n1]),              '.', markersize=8)\n",
    "\n",
    "ax1.set_ylabel(pot.str_unit);  ax4.set_xlabel(str_date)\n",
    "#\n",
    "title_label = '[BepiColombo PWI EFD Potential]  ' + data_name;  ax1.set_title(title_label)\n",
    "ax1.legend(loc='upper right', fontsize=8);  ax2.legend(loc='upper right', fontsize=8);  ax3.legend(loc='upper right', fontsize=8)\n",
    "\n",
    "xlim=[-.5, len(np.ravel(data.Vu1[n0:n1])) -.5];    print(xlim); ax1.set_xlim(xlim)\n",
    "xlim=[-.5, len(np.ravel(data.epoch[n0:n1]))-.5];   print(xlim); ax2.set_xlim(xlim); ax3.set_xlim(xlim); ax4.set_xlim(xlim)\n",
    "# ylim=[10**p_min, 10**p_max];                    ax1.set_ylim(ylim)\n",
    "\n",
    "fig.subplots_adjust(hspace=0);  fig.show\n",
    "if dump_mode == 1:\n",
    "    png_fname = work_dir+data_name+'_raw.png'\n",
    "    fig.savefig(png_fname)"
   ]
  },
  {
   "cell_type": "markdown",
   "id": "22adb184",
   "metadata": {},
   "source": [
    "# Potential"
   ]
  },
  {
   "cell_type": "code",
   "execution_count": null,
   "id": "736696bd",
   "metadata": {},
   "outputs": [],
   "source": [
    "n0     = 0;                 n1     = n_time0\n",
    "# n0     = n_time0//10;       n1     = n_time0//6\n",
    "n0e    = n0 * data.n_dt;    n1e    = n1 * data.n_dt\n",
    "p_max  = p_max0+2;          p_min  = p_min0\n",
    "\n",
    "fig = plt.figure(figsize=(14, 11))\n",
    "if time_mode == 1:\n",
    "    ax1 = fig.add_subplot(2, 1, 1); ax2 = fig.add_subplot(2, 1, 2)\n",
    "    ax1.plot(num_1d[n0e:n1e],    np.ravel(pot.V[n0:n1]),     '-y', linewidth=2.0, label=str_V)\n",
    "    ax1.plot(num_1d[n0e:n1e],    np.ravel(pot.Vu1[n0:n1])+4, '-r', linewidth=1.0, label=str_Vu1 + ' +4')\n",
    "    ax1.plot(num_1d[n0e:n1e],    np.ravel(pot.Vu2[n0:n1])+3, ':r', linewidth=0.4, label=str_Vu2 + ' +3')\n",
    "    ax1.plot(num_1d[n0e:n1e],    np.ravel(pot.Vv1[n0:n1])+2, '-b', linewidth=1.0, label=str_Vv1 + ' +2')\n",
    "    ax1.plot(num_1d[n0e:n1e],    np.ravel(pot.Vv2[n0:n1])+1, ':b', linewidth=0.4, label=str_Vv2 + ' +1')\n",
    "    ax2.plot(num_1d[n0e:n1e],    Epoch_pot[n0e:n1e],   '-k', linewidth=2.0, label='Epoch')\n",
    "    ax2.set_xlabel(str_date)\n",
    "else:\n",
    "    ax1 = fig.add_subplot(1, 1, 1)\n",
    "    ax1.plot(Epoch_pot[n0e:n1e], np.ravel(pot.V[n0:n1]),     '-y', linewidth=2.0, label=str_V)\n",
    "    ax1.plot(Epoch_pot[n0e:n1e], np.ravel(pot.Vu1[n0:n1])+4, '-r', linewidth=1.0, label=str_Vu1 + ' +4')\n",
    "    ax1.plot(Epoch_pot[n0e:n1e], np.ravel(pot.Vu2[n0:n1])+3, ':r', linewidth=0.4, label=str_Vu2 + ' +3')\n",
    "    ax1.plot(Epoch_pot[n0e:n1e], np.ravel(pot.Vv1[n0:n1])+2, '-b', linewidth=1.0, label=str_Vv1 + ' +2')\n",
    "    ax1.plot(Epoch_pot[n0e:n1e], np.ravel(pot.Vv2[n0:n1])+1, ':b', linewidth=0.4, label=str_Vv2 + ' +1')\n",
    "    ax1.set_xlabel(str_date)\n",
    "ax1.set_ylabel(pot.str_unit)\n",
    "#\n",
    "title_label = '[BepiColombo PWI EFD Potential]  ' + data_name;  ax1.set_title(title_label)\n",
    "ax1.legend(loc='upper right', fontsize=8)\n",
    "\n",
    "if time_mode == 1:\n",
    "    xlim=[num_1d[n0e], num_1d[n1e-1]]\n",
    "    ax1.set_xlim(xlim); ax2.set_xlim(xlim)\n",
    "else:\n",
    "    xlim=[Epoch_pot[n0e], Epoch_pot[n1e-1]]\n",
    "    #E_min = '2024-08-21 04:00:00';  t_min = datetime.datetime.strptime(E_min, \"%Y-%m-%d %H:%M:%S\");  \n",
    "    #E_max = '2024-08-21 19:00:00';  t_max = datetime.datetime.strptime(E_max, \"%Y-%m-%d %H:%M:%S\");  xlim=[t_min, t_max]\n",
    "    ax1.set_xlim(xlim)\n",
    "# ylim=[p_min, p_max];  ax1.set_ylim(ylim)\n",
    "\n",
    "fig.subplots_adjust(hspace=0);  fig.show\n",
    "if dump_mode == 1:\n",
    "    png_fname = work_dir+data_name+'_V.png'\n",
    "    fig.savefig(png_fname)"
   ]
  }
 ],
 "metadata": {
  "kernelspec": {
   "display_name": "3.12",
   "language": "python",
   "name": "python3"
  },
  "language_info": {
   "codemirror_mode": {
    "name": "ipython",
    "version": 3
   },
   "file_extension": ".py",
   "mimetype": "text/x-python",
   "name": "python",
   "nbconvert_exporter": "python",
   "pygments_lexer": "ipython3",
   "version": "3.12.7"
  }
 },
 "nbformat": 4,
 "nbformat_minor": 5
}
